{
 "cells": [
  {
   "cell_type": "markdown",
   "id": "2cc58bb0",
   "metadata": {},
   "source": [
    "created with Amazon Q"
   ]
  },
  {
   "cell_type": "code",
   "execution_count": 1,
   "id": "26004d36",
   "metadata": {},
   "outputs": [],
   "source": [
    "import os\n",
    "import glob\n",
    "from multiprocessing import Pool, cpu_count\n",
    "from osgeo import gdal"
   ]
  },
  {
   "cell_type": "code",
   "execution_count": null,
   "id": "0c16bab8",
   "metadata": {},
   "outputs": [],
   "source": [
    "def convert_tiff_to_rst(input_file):\n",
    "    \"\"\"Convert a single TIFF file to RST format\"\"\"\n",
    "    try:\n",
    "        print(f\"Starting conversion: {os.path.basename(input_file)}\")\n",
    "        output_file = input_file.replace('.tif', '.rst').replace('.tiff', '.rst')\n",
    "        \n",
    "        # Open source dataset\n",
    "        src_ds = gdal.Open(input_file)\n",
    "        if src_ds is None:\n",
    "            print(f\"Failed to open {input_file}\")\n",
    "            return False\n",
    "            \n",
    "        # Create RST file\n",
    "        driver = gdal.GetDriverByName('RST')\n",
    "        dst_ds = driver.CreateCopy(output_file, src_ds)\n",
    "        \n",
    "        # Clean up\n",
    "        src_ds = None\n",
    "        dst_ds = None\n",
    "        \n",
    "        print(f\"Completed: {os.path.basename(input_file)} -> {os.path.basename(output_file)}\")\n",
    "        return True\n",
    "        \n",
    "    except Exception as e:\n",
    "        print(f\"Error converting {input_file}: {str(e)}\")\n",
    "        return False\n",
    "\n",
    "def batch_convert_tiff_to_rst(input_folder, num_processes=None):\n",
    "    \"\"\"Batch convert all TIFF files in a folder to RST format\"\"\"\n",
    "    \n",
    "    # Find all TIFF files\n",
    "    tiff_patterns = [\n",
    "        os.path.join(input_folder, \"*.tif\"),\n",
    "        os.path.join(input_folder, \"*.tiff\"),\n",
    "        os.path.join(input_folder, \"**/*.tif\"),\n",
    "        os.path.join(input_folder, \"**/*.tiff\")\n",
    "    ]\n",
    "    \n",
    "    tiff_files = []\n",
    "    for pattern in tiff_patterns:\n",
    "        tiff_files.extend(glob.glob(pattern, recursive=True))\n",
    "    \n",
    "    if not tiff_files:\n",
    "        print(\"No TIFF files found in the specified folder\")\n",
    "        return\n",
    "    \n",
    "    print(f\"Found {len(tiff_files)} TIFF files to convert\")\n",
    "    \n",
    "    # Use all CPU cores if not specified\n",
    "    if num_processes is None:\n",
    "        num_processes = cpu_count()\n",
    "    \n",
    "    print(f\"Starting batch conversion using {num_processes} processes\")\n",
    "    \n",
    "    # Process files in parallel\n",
    "    with Pool(processes=num_processes) as pool:\n",
    "        results = pool.map(convert_tiff_to_rst, tiff_files)\n",
    "\n",
    "    print(\"All processes completed\")\n",
    "    successful = sum(results)\n",
    "    print(f\"Conversion complete: {successful}/{len(tiff_files)} files converted successfully\")\n"
   ]
  },
  {
   "cell_type": "code",
   "execution_count": 3,
   "id": "312c26c8",
   "metadata": {},
   "outputs": [
    {
     "name": "stdout",
     "output_type": "stream",
     "text": [
      "Found 62 TIFF files to convert\n",
      "Starting batch conversion using 16 processes\n",
      "Starting conversion: 1994_rc_area.tifStarting conversion: 1990_rc_area.tifStarting conversion: 1991_rc_area.tifStarting conversion: 1993_rc_area.tifStarting conversion: 1995_rc_area.tif\n",
      "Starting conversion: 1999_rc_area.tifStarting conversion: 2000_rc_area.tifStarting conversion: 1992_rc_area.tif\n",
      "Starting conversion: 1998_rc_area.tifStarting conversion: 2003_rc_area.tif\n",
      "Starting conversion: 2005_rc_area.tifStarting conversion: 1997_rc_area.tif\n",
      "\n",
      "\n",
      "Starting conversion: 1996_rc_area.tifStarting conversion: 2001_rc_area.tif\n",
      "\n",
      "Starting conversion: 2002_rc_area.tifStarting conversion: 2004_rc_area.tif\n",
      "\n",
      "\n",
      "\n",
      "\n"
     ]
    },
    {
     "name": "stderr",
     "output_type": "stream",
     "text": [
      "/opt/conda/envs/base_gis/lib/python3.12/site-packages/osgeo/gdal.py:312: FutureWarning: Neither gdal.UseExceptions() nor gdal.DontUseExceptions() has been explicitly called. In GDAL 4.0, exceptions will be enabled by default.\n",
      "  warnings.warn(\n"
     ]
    },
    {
     "name": "stdout",
     "output_type": "stream",
     "text": [
      "\n"
     ]
    },
    {
     "name": "stderr",
     "output_type": "stream",
     "text": [
      "/opt/conda/envs/base_gis/lib/python3.12/site-packages/osgeo/gdal.py:312: FutureWarning: Neither gdal.UseExceptions() nor gdal.DontUseExceptions() has been explicitly called. In GDAL 4.0, exceptions will be enabled by default.\n",
      "  warnings.warn(\n",
      "/opt/conda/envs/base_gis/lib/python3.12/site-packages/osgeo/gdal.py:312: FutureWarning: Neither gdal.UseExceptions() nor gdal.DontUseExceptions() has been explicitly called. In GDAL 4.0, exceptions will be enabled by default.\n",
      "  warnings.warn(\n",
      "/opt/conda/envs/base_gis/lib/python3.12/site-packages/osgeo/gdal.py:312: FutureWarning: Neither gdal.UseExceptions() nor gdal.DontUseExceptions() has been explicitly called. In GDAL 4.0, exceptions will be enabled by default.\n",
      "  warnings.warn(\n",
      "/opt/conda/envs/base_gis/lib/python3.12/site-packages/osgeo/gdal.py:312: FutureWarning: Neither gdal.UseExceptions() nor gdal.DontUseExceptions() has been explicitly called. In GDAL 4.0, exceptions will be enabled by default.\n",
      "  warnings.warn(\n"
     ]
    },
    {
     "name": "stdout",
     "output_type": "stream",
     "text": [
      "\n"
     ]
    },
    {
     "name": "stderr",
     "output_type": "stream",
     "text": [
      "/opt/conda/envs/base_gis/lib/python3.12/site-packages/osgeo/gdal.py:312: FutureWarning: Neither gdal.UseExceptions() nor gdal.DontUseExceptions() has been explicitly called. In GDAL 4.0, exceptions will be enabled by default.\n",
      "  warnings.warn(\n",
      "/opt/conda/envs/base_gis/lib/python3.12/site-packages/osgeo/gdal.py:312: FutureWarning: Neither gdal.UseExceptions() nor gdal.DontUseExceptions() has been explicitly called. In GDAL 4.0, exceptions will be enabled by default.\n",
      "  warnings.warn(\n",
      "/opt/conda/envs/base_gis/lib/python3.12/site-packages/osgeo/gdal.py:312: FutureWarning: Neither gdal.UseExceptions() nor gdal.DontUseExceptions() has been explicitly called. In GDAL 4.0, exceptions will be enabled by default.\n",
      "  warnings.warn(\n"
     ]
    },
    {
     "name": "stdout",
     "output_type": "stream",
     "text": [
      "\n"
     ]
    },
    {
     "name": "stderr",
     "output_type": "stream",
     "text": [
      "/opt/conda/envs/base_gis/lib/python3.12/site-packages/osgeo/gdal.py:312: FutureWarning: Neither gdal.UseExceptions() nor gdal.DontUseExceptions() has been explicitly called. In GDAL 4.0, exceptions will be enabled by default.\n",
      "  warnings.warn(\n",
      "/opt/conda/envs/base_gis/lib/python3.12/site-packages/osgeo/gdal.py:312: FutureWarning: Neither gdal.UseExceptions() nor gdal.DontUseExceptions() has been explicitly called. In GDAL 4.0, exceptions will be enabled by default.\n",
      "  warnings.warn(\n",
      "/opt/conda/envs/base_gis/lib/python3.12/site-packages/osgeo/gdal.py:312: FutureWarning: Neither gdal.UseExceptions() nor gdal.DontUseExceptions() has been explicitly called. In GDAL 4.0, exceptions will be enabled by default.\n",
      "  warnings.warn(\n",
      "/opt/conda/envs/base_gis/lib/python3.12/site-packages/osgeo/gdal.py:312: FutureWarning: Neither gdal.UseExceptions() nor gdal.DontUseExceptions() has been explicitly called. In GDAL 4.0, exceptions will be enabled by default.\n",
      "  warnings.warn(\n",
      "/opt/conda/envs/base_gis/lib/python3.12/site-packages/osgeo/gdal.py:312: FutureWarning: Neither gdal.UseExceptions() nor gdal.DontUseExceptions() has been explicitly called. In GDAL 4.0, exceptions will be enabled by default.\n",
      "  warnings.warn(\n",
      "/opt/conda/envs/base_gis/lib/python3.12/site-packages/osgeo/gdal.py:312: FutureWarning: Neither gdal.UseExceptions() nor gdal.DontUseExceptions() has been explicitly called. In GDAL 4.0, exceptions will be enabled by default.\n",
      "  warnings.warn(\n",
      "/opt/conda/envs/base_gis/lib/python3.12/site-packages/osgeo/gdal.py:312: FutureWarning: Neither gdal.UseExceptions() nor gdal.DontUseExceptions() has been explicitly called. In GDAL 4.0, exceptions will be enabled by default.\n",
      "  warnings.warn(\n",
      "/opt/conda/envs/base_gis/lib/python3.12/site-packages/osgeo/gdal.py:312: FutureWarning: Neither gdal.UseExceptions() nor gdal.DontUseExceptions() has been explicitly called. In GDAL 4.0, exceptions will be enabled by default.\n",
      "  warnings.warn(\n",
      "Warning 1: PROJ: proj_create_from_database: Open of /opt/conda/envs/base_gis/share/proj failed\n",
      "Warning 1: PROJ: proj_create_from_name: Open of /opt/conda/envs/base_gis/share/proj failed\n",
      "Warning 1: The definition of projected CRS EPSG:29192 got from GeoTIFF keys is not the same as the one from the EPSG registry, which may cause issues during reprojection operations. Set GTIFF_SRS_SOURCE configuration option to EPSG to use official parameters (overriding the ones from GeoTIFF keys), or to GEOKEYS to use custom values from GeoTIFF keys and drop the EPSG code.\n",
      "Warning 1: PROJ: proj_create_from_database: Open of /opt/conda/envs/base_gis/share/proj failed\n",
      "Warning 1: PROJ: proj_create_from_name: Open of /opt/conda/envs/base_gis/share/proj failed\n",
      "Warning 1: The definition of projected CRS EPSG:29192 got from GeoTIFF keys is not the same as the one from the EPSG registry, which may cause issues during reprojection operations. Set GTIFF_SRS_SOURCE configuration option to EPSG to use official parameters (overriding the ones from GeoTIFF keys), or to GEOKEYS to use custom values from GeoTIFF keys and drop the EPSG code.\n",
      "Warning 1: PROJ: proj_create_from_database: Open of /opt/conda/envs/base_gis/share/proj failed\n",
      "Warning 1: PROJ: proj_create_from_name: Open of /opt/conda/envs/base_gis/share/proj failed\n",
      "Warning 1: The definition of projected CRS EPSG:29192 got from GeoTIFF keys is not the same as the one from the EPSG registry, which may cause issues during reprojection operations. Set GTIFF_SRS_SOURCE configuration option to EPSG to use official parameters (overriding the ones from GeoTIFF keys), or to GEOKEYS to use custom values from GeoTIFF keys and drop the EPSG code.\n",
      "Warning 1: PROJ: proj_create_from_database: Open of /opt/conda/envs/base_gis/share/proj failed\n",
      "Warning 1: PROJ: proj_create_from_name: Open of /opt/conda/envs/base_gis/share/proj failed\n",
      "Warning 1: The definition of projected CRS EPSG:29192 got from GeoTIFF keys is not the same as the one from the EPSG registry, which may cause issues during reprojection operations. Set GTIFF_SRS_SOURCE configuration option to EPSG to use official parameters (overriding the ones from GeoTIFF keys), or to GEOKEYS to use custom values from GeoTIFF keys and drop the EPSG code.\n",
      "Warning 1: PROJ: proj_create_from_database: Open of /opt/conda/envs/base_gis/share/proj failed\n",
      "Warning 1: PROJ: proj_create_from_name: Open of /opt/conda/envs/base_gis/share/proj failed\n",
      "Warning 1: The definition of projected CRS EPSG:29192 got from GeoTIFF keys is not the same as the one from the EPSG registry, which may cause issues during reprojection operations. Set GTIFF_SRS_SOURCE configuration option to EPSG to use official parameters (overriding the ones from GeoTIFF keys), or to GEOKEYS to use custom values from GeoTIFF keys and drop the EPSG code.\n",
      "Warning 1: PROJ: proj_create_from_database: Open of /opt/conda/envs/base_gis/share/proj failed\n",
      "Warning 1: PROJ: proj_create_from_name: Open of /opt/conda/envs/base_gis/share/proj failed\n",
      "Warning 1: The definition of projected CRS EPSG:29192 got from GeoTIFF keys is not the same as the one from the EPSG registry, which may cause issues during reprojection operations. Set GTIFF_SRS_SOURCE configuration option to EPSG to use official parameters (overriding the ones from GeoTIFF keys), or to GEOKEYS to use custom values from GeoTIFF keys and drop the EPSG code.\n",
      "Warning 1: PROJ: proj_create_from_database: Open of /opt/conda/envs/base_gis/share/proj failed\n",
      "Warning 1: PROJ: proj_create_from_name: Open of /opt/conda/envs/base_gis/share/proj failed\n",
      "Warning 1: The definition of projected CRS EPSG:29192 got from GeoTIFF keys is not the same as the one from the EPSG registry, which may cause issues during reprojection operations. Set GTIFF_SRS_SOURCE configuration option to EPSG to use official parameters (overriding the ones from GeoTIFF keys), or to GEOKEYS to use custom values from GeoTIFF keys and drop the EPSG code.\n",
      "Warning 1: PROJ: proj_create_from_database: Open of /opt/conda/envs/base_gis/share/proj failed\n",
      "Warning 1: PROJ: proj_create_from_name: Open of /opt/conda/envs/base_gis/share/proj failed\n",
      "Warning 1: PROJ: proj_create_from_database: Open of /opt/conda/envs/base_gis/share/proj failed\n",
      "Warning 1: PROJ: proj_create_from_name: Open of /opt/conda/envs/base_gis/share/proj failed\n",
      "Warning 1: PROJ: proj_create_from_database: Open of /opt/conda/envs/base_gis/share/proj failed\n",
      "Warning 1: PROJ: proj_create_from_name: Open of /opt/conda/envs/base_gis/share/proj failed\n",
      "Warning 1: PROJ: proj_create_from_database: Open of /opt/conda/envs/base_gis/share/proj failed\n",
      "Warning 1: PROJ: proj_create_from_name: Open of /opt/conda/envs/base_gis/share/proj failed\n",
      "Warning 1: The definition of projected CRS EPSG:29192 got from GeoTIFF keys is not the same as the one from the EPSG registry, which may cause issues during reprojection operations. Set GTIFF_SRS_SOURCE configuration option to EPSG to use official parameters (overriding the ones from GeoTIFF keys), or to GEOKEYS to use custom values from GeoTIFF keys and drop the EPSG code.\n",
      "Warning 1: PROJ: proj_create_from_database: Open of /opt/conda/envs/base_gis/share/proj failed\n",
      "Warning 1: PROJ: proj_create_from_name: Open of /opt/conda/envs/base_gis/share/proj failed\n",
      "Warning 1: The definition of projected CRS EPSG:29192 got from GeoTIFF keys is not the same as the one from the EPSG registry, which may cause issues during reprojection operations. Set GTIFF_SRS_SOURCE configuration option to EPSG to use official parameters (overriding the ones from GeoTIFF keys), or to GEOKEYS to use custom values from GeoTIFF keys and drop the EPSG code.\n",
      "Warning 1: PROJ: proj_create_from_database: Open of /opt/conda/envs/base_gis/share/proj failed\n",
      "Warning 1: PROJ: proj_create_from_name: Open of /opt/conda/envs/base_gis/share/proj failed\n",
      "Warning 1: PROJ: proj_create_from_database: Open of /opt/conda/envs/base_gis/share/proj failed\n",
      "Warning 1: PROJ: proj_create_from_name: Open of /opt/conda/envs/base_gis/share/proj failed\n",
      "Warning 1: The definition of projected CRS EPSG:29192 got from GeoTIFF keys is not the same as the one from the EPSG registry, which may cause issues during reprojection operations. Set GTIFF_SRS_SOURCE configuration option to EPSG to use official parameters (overriding the ones from GeoTIFF keys), or to GEOKEYS to use custom values from GeoTIFF keys and drop the EPSG code.\n",
      "Warning 1: PROJ: proj_create_from_database: Open of /opt/conda/envs/base_gis/share/proj failed\n",
      "Warning 1: PROJ: proj_create_from_name: Open of /opt/conda/envs/base_gis/share/proj failed\n",
      "Warning 1: The definition of projected CRS EPSG:29192 got from GeoTIFF keys is not the same as the one from the EPSG registry, which may cause issues during reprojection operations. Set GTIFF_SRS_SOURCE configuration option to EPSG to use official parameters (overriding the ones from GeoTIFF keys), or to GEOKEYS to use custom values from GeoTIFF keys and drop the EPSG code.\n",
      "Warning 1: PROJ: proj_create_from_database: Open of /opt/conda/envs/base_gis/share/proj failed\n",
      "Warning 1: PROJ: proj_create_from_name: Open of /opt/conda/envs/base_gis/share/proj failed\n",
      "Warning 1: The definition of projected CRS EPSG:29192 got from GeoTIFF keys is not the same as the one from the EPSG registry, which may cause issues during reprojection operations. Set GTIFF_SRS_SOURCE configuration option to EPSG to use official parameters (overriding the ones from GeoTIFF keys), or to GEOKEYS to use custom values from GeoTIFF keys and drop the EPSG code.\n"
     ]
    },
    {
     "name": "stdout",
     "output_type": "stream",
     "text": [
      "Completed: 1999_rc_area.tif -> 1999_rc_area.rst\n",
      "Starting conversion: 2006_rc_area.tif\n"
     ]
    },
    {
     "name": "stderr",
     "output_type": "stream",
     "text": [
      "Warning 1: PROJ: proj_create_from_database: Open of /opt/conda/envs/base_gis/share/proj failed\n",
      "Warning 1: PROJ: proj_create_from_name: Open of /opt/conda/envs/base_gis/share/proj failed\n",
      "Warning 1: The definition of projected CRS EPSG:29192 got from GeoTIFF keys is not the same as the one from the EPSG registry, which may cause issues during reprojection operations. Set GTIFF_SRS_SOURCE configuration option to EPSG to use official parameters (overriding the ones from GeoTIFF keys), or to GEOKEYS to use custom values from GeoTIFF keys and drop the EPSG code.\n"
     ]
    },
    {
     "name": "stdout",
     "output_type": "stream",
     "text": [
      "Completed: 1995_rc_area.tif -> 1995_rc_area.rst\n",
      "Starting conversion: 2007_rc_area.tif\n",
      "Completed: 2000_rc_area.tif -> 2000_rc_area.rst\n",
      "Starting conversion: 2008_rc_area.tif\n"
     ]
    },
    {
     "name": "stderr",
     "output_type": "stream",
     "text": [
      "Warning 1: PROJ: proj_create_from_database: Open of /opt/conda/envs/base_gis/share/proj failed\n",
      "Warning 1: PROJ: proj_create_from_name: Open of /opt/conda/envs/base_gis/share/proj failed\n",
      "Warning 1: The definition of projected CRS EPSG:29192 got from GeoTIFF keys is not the same as the one from the EPSG registry, which may cause issues during reprojection operations. Set GTIFF_SRS_SOURCE configuration option to EPSG to use official parameters (overriding the ones from GeoTIFF keys), or to GEOKEYS to use custom values from GeoTIFF keys and drop the EPSG code.\n",
      "Warning 1: PROJ: proj_create_from_database: Open of /opt/conda/envs/base_gis/share/proj failed\n",
      "Warning 1: PROJ: proj_create_from_name: Open of /opt/conda/envs/base_gis/share/proj failed\n",
      "Warning 1: The definition of projected CRS EPSG:29192 got from GeoTIFF keys is not the same as the one from the EPSG registry, which may cause issues during reprojection operations. Set GTIFF_SRS_SOURCE configuration option to EPSG to use official parameters (overriding the ones from GeoTIFF keys), or to GEOKEYS to use custom values from GeoTIFF keys and drop the EPSG code.\n"
     ]
    },
    {
     "name": "stdout",
     "output_type": "stream",
     "text": [
      "Completed: 2005_rc_area.tif -> 2005_rc_area.rst\n",
      "Starting conversion: 2009_rc_area.tif\n",
      "Completed: 1990_rc_area.tif -> 1990_rc_area.rst\n",
      "Starting conversion: 2010_rc_area.tif\n"
     ]
    },
    {
     "name": "stderr",
     "output_type": "stream",
     "text": [
      "Warning 1: PROJ: proj_create_from_database: Open of /opt/conda/envs/base_gis/share/proj failed\n",
      "Warning 1: PROJ: proj_create_from_name: Open of /opt/conda/envs/base_gis/share/proj failed\n",
      "Warning 1: PROJ: proj_create_from_database: Open of /opt/conda/envs/base_gis/share/proj failed\n",
      "Warning 1: PROJ: proj_create_from_name: Open of /opt/conda/envs/base_gis/share/proj failed\n",
      "Warning 1: The definition of projected CRS EPSG:29192 got from GeoTIFF keys is not the same as the one from the EPSG registry, which may cause issues during reprojection operations. Set GTIFF_SRS_SOURCE configuration option to EPSG to use official parameters (overriding the ones from GeoTIFF keys), or to GEOKEYS to use custom values from GeoTIFF keys and drop the EPSG code.\n"
     ]
    },
    {
     "name": "stdout",
     "output_type": "stream",
     "text": [
      "Completed: 1997_rc_area.tif -> 1997_rc_area.rst\n",
      "Starting conversion: 2011_rc_area.tif\n"
     ]
    },
    {
     "name": "stderr",
     "output_type": "stream",
     "text": [
      "Warning 1: PROJ: proj_create_from_database: Open of /opt/conda/envs/base_gis/share/proj failed\n",
      "Warning 1: PROJ: proj_create_from_name: Open of /opt/conda/envs/base_gis/share/proj failed\n",
      "Warning 1: The definition of projected CRS EPSG:29192 got from GeoTIFF keys is not the same as the one from the EPSG registry, which may cause issues during reprojection operations. Set GTIFF_SRS_SOURCE configuration option to EPSG to use official parameters (overriding the ones from GeoTIFF keys), or to GEOKEYS to use custom values from GeoTIFF keys and drop the EPSG code.\n"
     ]
    },
    {
     "name": "stdout",
     "output_type": "stream",
     "text": [
      "Completed: 1991_rc_area.tif -> 1991_rc_area.rstCompleted: 2004_rc_area.tif -> 2004_rc_area.rstCompleted: 2002_rc_area.tif -> 2002_rc_area.rst\n",
      "\n",
      "\n",
      "Starting conversion: 2013_rc_area.tifStarting conversion: 2012_rc_area.tifStarting conversion: 2014_rc_area.tif\n",
      "Completed: 2003_rc_area.tif -> 2003_rc_area.rst\n",
      "Starting conversion: 2015_rc_area.tif\n",
      "\n",
      "\n",
      "Completed: 1992_rc_area.tif -> 1992_rc_area.rst\n",
      "Starting conversion: 2016_rc_area.tif\n",
      "Completed: 1996_rc_area.tif -> 1996_rc_area.rst\n",
      "Starting conversion: 2017_rc_area.tif\n",
      "Completed: 2001_rc_area.tif -> 2001_rc_area.rst\n",
      "Starting conversion: 2018_rc_area.tif\n",
      "Completed: 1998_rc_area.tif -> 1998_rc_area.rst\n",
      "Starting conversion: 2019_rc_area.tif\n",
      "Completed: 1993_rc_area.tif -> 1993_rc_area.rst\n",
      "Starting conversion: 2020_rc_area.tif\n",
      "Completed: 1994_rc_area.tif -> 1994_rc_area.rst\n",
      "Starting conversion: 1990_rc_area.tif\n"
     ]
    },
    {
     "name": "stderr",
     "output_type": "stream",
     "text": [
      "Warning 1: PROJ: proj_create_from_database: Open of /opt/conda/envs/base_gis/share/proj failed\n",
      "Warning 1: PROJ: proj_create_from_name: Open of /opt/conda/envs/base_gis/share/proj failed\n",
      "Warning 1: The definition of projected CRS EPSG:29192 got from GeoTIFF keys is not the same as the one from the EPSG registry, which may cause issues during reprojection operations. Set GTIFF_SRS_SOURCE configuration option to EPSG to use official parameters (overriding the ones from GeoTIFF keys), or to GEOKEYS to use custom values from GeoTIFF keys and drop the EPSG code.\n",
      "Warning 1: PROJ: proj_create_from_database: Open of /opt/conda/envs/base_gis/share/proj failed\n",
      "Warning 1: PROJ: proj_create_from_name: Open of /opt/conda/envs/base_gis/share/proj failed\n",
      "Warning 1: The definition of projected CRS EPSG:29192 got from GeoTIFF keys is not the same as the one from the EPSG registry, which may cause issues during reprojection operations. Set GTIFF_SRS_SOURCE configuration option to EPSG to use official parameters (overriding the ones from GeoTIFF keys), or to GEOKEYS to use custom values from GeoTIFF keys and drop the EPSG code.\n",
      "Warning 1: PROJ: proj_create_from_database: Open of /opt/conda/envs/base_gis/share/proj failed\n",
      "Warning 1: PROJ: proj_create_from_name: Open of /opt/conda/envs/base_gis/share/proj failed\n",
      "Warning 1: The definition of projected CRS EPSG:29192 got from GeoTIFF keys is not the same as the one from the EPSG registry, which may cause issues during reprojection operations. Set GTIFF_SRS_SOURCE configuration option to EPSG to use official parameters (overriding the ones from GeoTIFF keys), or to GEOKEYS to use custom values from GeoTIFF keys and drop the EPSG code.\n",
      "Warning 1: PROJ: proj_create_from_database: Open of /opt/conda/envs/base_gis/share/proj failed\n",
      "Warning 1: PROJ: proj_create_from_name: Open of /opt/conda/envs/base_gis/share/proj failed\n",
      "Warning 1: The definition of projected CRS EPSG:29192 got from GeoTIFF keys is not the same as the one from the EPSG registry, which may cause issues during reprojection operations. Set GTIFF_SRS_SOURCE configuration option to EPSG to use official parameters (overriding the ones from GeoTIFF keys), or to GEOKEYS to use custom values from GeoTIFF keys and drop the EPSG code.\n",
      "Warning 1: PROJ: proj_create_from_database: Open of /opt/conda/envs/base_gis/share/proj failed\n",
      "Warning 1: PROJ: proj_create_from_name: Open of /opt/conda/envs/base_gis/share/proj failed\n",
      "Warning 1: PROJ: proj_create_from_database: Open of /opt/conda/envs/base_gis/share/proj failed\n",
      "Warning 1: PROJ: proj_create_from_name: Open of /opt/conda/envs/base_gis/share/proj failed\n",
      "Warning 1: The definition of projected CRS EPSG:29192 got from GeoTIFF keys is not the same as the one from the EPSG registry, which may cause issues during reprojection operations. Set GTIFF_SRS_SOURCE configuration option to EPSG to use official parameters (overriding the ones from GeoTIFF keys), or to GEOKEYS to use custom values from GeoTIFF keys and drop the EPSG code.\n",
      "Warning 1: PROJ: proj_create_from_database: Open of /opt/conda/envs/base_gis/share/proj failed\n",
      "Warning 1: PROJ: proj_create_from_database: Open of /opt/conda/envs/base_gis/share/proj failed\n",
      "Warning 1: PROJ: proj_create_from_name: Open of /opt/conda/envs/base_gis/share/proj failed\n",
      "Warning 1: The definition of projected CRS EPSG:29192 got from GeoTIFF keys is not the same as the one from the EPSG registry, which may cause issues during reprojection operations. Set GTIFF_SRS_SOURCE configuration option to EPSG to use official parameters (overriding the ones from GeoTIFF keys), or to GEOKEYS to use custom values from GeoTIFF keys and drop the EPSG code.\n",
      "Warning 1: PROJ: proj_create_from_name: Open of /opt/conda/envs/base_gis/share/proj failed\n",
      "Warning 1: The definition of projected CRS EPSG:29192 got from GeoTIFF keys is not the same as the one from the EPSG registry, which may cause issues during reprojection operations. Set GTIFF_SRS_SOURCE configuration option to EPSG to use official parameters (overriding the ones from GeoTIFF keys), or to GEOKEYS to use custom values from GeoTIFF keys and drop the EPSG code.\n",
      "Warning 1: PROJ: proj_create_from_database: Open of /opt/conda/envs/base_gis/share/proj failed\n",
      "Warning 1: PROJ: proj_create_from_name: Open of /opt/conda/envs/base_gis/share/proj failed\n",
      "Warning 1: PROJ: proj_create_from_database: Open of /opt/conda/envs/base_gis/share/proj failed\n",
      "Warning 1: PROJ: proj_create_from_name: Open of /opt/conda/envs/base_gis/share/proj failed\n",
      "ERROR 3: Can't write(/home/gisuser/code/code/data/2017_rc_area.rst) block with X offset 0 and Y offset 9340.\n",
      "Input/output error\n",
      "ERROR 3: Can't write(/home/gisuser/code/code/data/2020_rc_area.rst) block with X offset 0 and Y offset 9584.\n",
      "Input/output error\n",
      "ERROR 3: Can't write(/home/gisuser/code/code/data/2019_rc_area.rst) block with X offset 0 and Y offset 9316.\n",
      "Input/output error\n",
      "ERROR 3: Can't write(/home/gisuser/code/code/data/2013_rc_area.rst) block with X offset 0 and Y offset 9316.\n",
      "Input/output error\n",
      "ERROR 1: An error occurred while writing a dirty block from GDALRasterBand::IRasterIO\n",
      "ERROR 3: Can't write(/home/gisuser/code/code/data/2017_rc_area.rst) block with X offset 0 and Y offset 9442.\n",
      "Input/output error\n",
      "ERROR 1: An error occurred while writing a dirty block from GDALRasterBand::IRasterIO\n",
      "ERROR 3: Can't write(/home/gisuser/code/code/data/2019_rc_area.rst) block with X offset 0 and Y offset 9442.\n",
      "Input/output error\n",
      "ERROR 1: An error occurred while writing a dirty block from GDALRasterBand::IRasterIO\n",
      "ERROR 1: An error occurred while writing a dirty block from GDALRasterBand::IRasterIO\n",
      "ERROR 3: Can't write(/home/gisuser/code/code/data/2020_rc_area.rst) block with X offset 0 and Y offset 9710.\n",
      "Input/output error\n",
      "ERROR 3: Can't write(/home/gisuser/code/code/data/2013_rc_area.rst) block with X offset 0 and Y offset 9442.\n",
      "Input/output error\n"
     ]
    },
    {
     "name": "stdout",
     "output_type": "stream",
     "text": [
      "Completed: 2017_rc_area.tif -> 2017_rc_area.rst\n",
      "Starting conversion: 1991_rc_area.tif\n",
      "Completed: 2013_rc_area.tif -> 2013_rc_area.rst\n",
      "Starting conversion: 1992_rc_area.tif\n"
     ]
    },
    {
     "name": "stderr",
     "output_type": "stream",
     "text": [
      "ERROR 3: Can't read(/home/gisuser/code/code/data/2017_rc_area.rst) block with X offset 0 and Y offset 9340.\n",
      "Success\n",
      "ERROR 1: 2017_rc_area.rst, band 1: IReadBlock failed at X offset 0, Y offset 9340: Can't read(/home/gisuser/code/code/data/2017_rc_area.rst) block with X offset 0 and Y offset 9340.\n",
      "Success\n",
      "ERROR 3: Can't read(/home/gisuser/code/code/data/2013_rc_area.rst) block with X offset 0 and Y offset 9316.\n",
      "Success\n",
      "ERROR 1: 2013_rc_area.rst, band 1: IReadBlock failed at X offset 0, Y offset 9316: Can't read(/home/gisuser/code/code/data/2013_rc_area.rst) block with X offset 0 and Y offset 9316.\n",
      "Success\n",
      "ERROR 3: Can't read(/home/gisuser/code/code/data/2019_rc_area.rst) block with X offset 0 and Y offset 9316.\n",
      "Success\n",
      "ERROR 1: 2019_rc_area.rst, band 1: IReadBlock failed at X offset 0, Y offset 9316: Can't read(/home/gisuser/code/code/data/2019_rc_area.rst) block with X offset 0 and Y offset 9316.\n",
      "Success\n"
     ]
    },
    {
     "name": "stdout",
     "output_type": "stream",
     "text": [
      "Completed: 2019_rc_area.tif -> 2019_rc_area.rst\n",
      "Starting conversion: 1993_rc_area.tif\n"
     ]
    },
    {
     "name": "stderr",
     "output_type": "stream",
     "text": [
      "ERROR 3: Can't read(/home/gisuser/code/code/data/2020_rc_area.rst) block with X offset 0 and Y offset 9584.\n",
      "Success\n",
      "ERROR 1: 2020_rc_area.rst, band 1: IReadBlock failed at X offset 0, Y offset 9584: Can't read(/home/gisuser/code/code/data/2020_rc_area.rst) block with X offset 0 and Y offset 9584.\n",
      "Success\n"
     ]
    },
    {
     "name": "stdout",
     "output_type": "stream",
     "text": [
      "Completed: 2020_rc_area.tif -> 2020_rc_area.rst\n",
      "Starting conversion: 1994_rc_area.tif\n"
     ]
    },
    {
     "name": "stderr",
     "output_type": "stream",
     "text": [
      "Warning 1: PROJ: proj_create_from_database: Open of /opt/conda/envs/base_gis/share/proj failed\n",
      "Warning 1: PROJ: proj_create_from_name: Open of /opt/conda/envs/base_gis/share/proj failed\n",
      "Warning 1: The definition of projected CRS EPSG:29192 got from GeoTIFF keys is not the same as the one from the EPSG registry, which may cause issues during reprojection operations. Set GTIFF_SRS_SOURCE configuration option to EPSG to use official parameters (overriding the ones from GeoTIFF keys), or to GEOKEYS to use custom values from GeoTIFF keys and drop the EPSG code.\n",
      "Warning 1: PROJ: proj_create_from_database: Open of /opt/conda/envs/base_gis/share/proj failed\n",
      "Warning 1: PROJ: proj_create_from_name: Open of /opt/conda/envs/base_gis/share/proj failed\n",
      "Warning 1: The definition of projected CRS EPSG:29192 got from GeoTIFF keys is not the same as the one from the EPSG registry, which may cause issues during reprojection operations. Set GTIFF_SRS_SOURCE configuration option to EPSG to use official parameters (overriding the ones from GeoTIFF keys), or to GEOKEYS to use custom values from GeoTIFF keys and drop the EPSG code.\n",
      "Warning 1: PROJ: proj_create_from_database: Open of /opt/conda/envs/base_gis/share/proj failed\n",
      "Warning 1: PROJ: proj_create_from_name: Open of /opt/conda/envs/base_gis/share/proj failed\n",
      "Warning 1: The definition of projected CRS EPSG:29192 got from GeoTIFF keys is not the same as the one from the EPSG registry, which may cause issues during reprojection operations. Set GTIFF_SRS_SOURCE configuration option to EPSG to use official parameters (overriding the ones from GeoTIFF keys), or to GEOKEYS to use custom values from GeoTIFF keys and drop the EPSG code.\n",
      "Warning 1: PROJ: proj_create_from_database: Open of /opt/conda/envs/base_gis/share/proj failed\n",
      "Warning 1: PROJ: proj_create_from_name: Open of /opt/conda/envs/base_gis/share/proj failed\n",
      "Warning 1: The definition of projected CRS EPSG:29192 got from GeoTIFF keys is not the same as the one from the EPSG registry, which may cause issues during reprojection operations. Set GTIFF_SRS_SOURCE configuration option to EPSG to use official parameters (overriding the ones from GeoTIFF keys), or to GEOKEYS to use custom values from GeoTIFF keys and drop the EPSG code.\n"
     ]
    },
    {
     "name": "stdout",
     "output_type": "stream",
     "text": [
      "Completed: 2006_rc_area.tif -> 2006_rc_area.rst\n",
      "Starting conversion: 1995_rc_area.tif\n"
     ]
    },
    {
     "name": "stderr",
     "output_type": "stream",
     "text": [
      "Warning 1: PROJ: proj_create_from_database: Open of /opt/conda/envs/base_gis/share/proj failed\n",
      "Warning 1: PROJ: proj_create_from_name: Open of /opt/conda/envs/base_gis/share/proj failed\n"
     ]
    },
    {
     "name": "stdout",
     "output_type": "stream",
     "text": [
      "Completed: 2010_rc_area.tif -> 2010_rc_area.rst\n",
      "Starting conversion: 1996_rc_area.tif\n"
     ]
    },
    {
     "name": "stderr",
     "output_type": "stream",
     "text": [
      "Warning 1: PROJ: proj_create_from_database: Open of /opt/conda/envs/base_gis/share/proj failed\n",
      "Warning 1: PROJ: proj_create_from_name: Open of /opt/conda/envs/base_gis/share/proj failed\n",
      "Warning 1: The definition of projected CRS EPSG:29192 got from GeoTIFF keys is not the same as the one from the EPSG registry, which may cause issues during reprojection operations. Set GTIFF_SRS_SOURCE configuration option to EPSG to use official parameters (overriding the ones from GeoTIFF keys), or to GEOKEYS to use custom values from GeoTIFF keys and drop the EPSG code.\n"
     ]
    },
    {
     "name": "stdout",
     "output_type": "stream",
     "text": [
      "Completed: 2007_rc_area.tif -> 2007_rc_area.rst\n",
      "Starting conversion: 1997_rc_area.tif\n"
     ]
    },
    {
     "name": "stderr",
     "output_type": "stream",
     "text": [
      "Warning 1: PROJ: proj_create_from_database: Open of /opt/conda/envs/base_gis/share/proj failed\n",
      "Warning 1: PROJ: proj_create_from_name: Open of /opt/conda/envs/base_gis/share/proj failed\n",
      "Warning 1: The definition of projected CRS EPSG:29192 got from GeoTIFF keys is not the same as the one from the EPSG registry, which may cause issues during reprojection operations. Set GTIFF_SRS_SOURCE configuration option to EPSG to use official parameters (overriding the ones from GeoTIFF keys), or to GEOKEYS to use custom values from GeoTIFF keys and drop the EPSG code.\n"
     ]
    },
    {
     "name": "stdout",
     "output_type": "stream",
     "text": [
      "Completed: 2011_rc_area.tif -> 2011_rc_area.rstCompleted: 2008_rc_area.tif -> 2008_rc_area.rst\n",
      "\n",
      "Starting conversion: 1999_rc_area.tifStarting conversion: 1998_rc_area.tif\n",
      "\n"
     ]
    },
    {
     "name": "stderr",
     "output_type": "stream",
     "text": [
      "Warning 1: PROJ: proj_create_from_database: Open of /opt/conda/envs/base_gis/share/proj failed\n",
      "Warning 1: PROJ: proj_create_from_name: Open of /opt/conda/envs/base_gis/share/proj failed\n",
      "Warning 1: The definition of projected CRS EPSG:29192 got from GeoTIFF keys is not the same as the one from the EPSG registry, which may cause issues during reprojection operations. Set GTIFF_SRS_SOURCE configuration option to EPSG to use official parameters (overriding the ones from GeoTIFF keys), or to GEOKEYS to use custom values from GeoTIFF keys and drop the EPSG code.\n",
      "Warning 1: PROJ: proj_create_from_database: Open of /opt/conda/envs/base_gis/share/proj failed\n",
      "Warning 1: PROJ: proj_create_from_name: Open of /opt/conda/envs/base_gis/share/proj failed\n",
      "Warning 1: The definition of projected CRS EPSG:29192 got from GeoTIFF keys is not the same as the one from the EPSG registry, which may cause issues during reprojection operations. Set GTIFF_SRS_SOURCE configuration option to EPSG to use official parameters (overriding the ones from GeoTIFF keys), or to GEOKEYS to use custom values from GeoTIFF keys and drop the EPSG code.\n"
     ]
    },
    {
     "name": "stdout",
     "output_type": "stream",
     "text": [
      "Completed: 2009_rc_area.tif -> 2009_rc_area.rst\n",
      "Starting conversion: 2000_rc_area.tif\n"
     ]
    },
    {
     "name": "stderr",
     "output_type": "stream",
     "text": [
      "Warning 1: PROJ: proj_create_from_database: Open of /opt/conda/envs/base_gis/share/proj failed\n",
      "Warning 1: PROJ: proj_create_from_name: Open of /opt/conda/envs/base_gis/share/proj failed\n"
     ]
    },
    {
     "name": "stdout",
     "output_type": "stream",
     "text": [
      "Completed: 2015_rc_area.tif -> 2015_rc_area.rst\n",
      "Starting conversion: 2001_rc_area.tif\n",
      "Completed: 1990_rc_area.tif -> 1990_rc_area.rst\n",
      "Starting conversion: 2002_rc_area.tif\n"
     ]
    },
    {
     "name": "stderr",
     "output_type": "stream",
     "text": [
      "Warning 1: PROJ: proj_create_from_database: Open of /opt/conda/envs/base_gis/share/proj failed\n",
      "Warning 1: PROJ: proj_create_from_name: Open of /opt/conda/envs/base_gis/share/proj failed\n",
      "Warning 1: The definition of projected CRS EPSG:29192 got from GeoTIFF keys is not the same as the one from the EPSG registry, which may cause issues during reprojection operations. Set GTIFF_SRS_SOURCE configuration option to EPSG to use official parameters (overriding the ones from GeoTIFF keys), or to GEOKEYS to use custom values from GeoTIFF keys and drop the EPSG code.\n",
      "Warning 1: PROJ: proj_create_from_database: Open of /opt/conda/envs/base_gis/share/proj failed\n",
      "Warning 1: PROJ: proj_create_from_name: Open of /opt/conda/envs/base_gis/share/proj failed\n",
      "Warning 1: The definition of projected CRS EPSG:29192 got from GeoTIFF keys is not the same as the one from the EPSG registry, which may cause issues during reprojection operations. Set GTIFF_SRS_SOURCE configuration option to EPSG to use official parameters (overriding the ones from GeoTIFF keys), or to GEOKEYS to use custom values from GeoTIFF keys and drop the EPSG code.\n"
     ]
    },
    {
     "name": "stdout",
     "output_type": "stream",
     "text": [
      "Completed: 2018_rc_area.tif -> 2018_rc_area.rst\n",
      "Starting conversion: 2003_rc_area.tif\n",
      "Completed: 2016_rc_area.tif -> 2016_rc_area.rst\n",
      "Starting conversion: 2004_rc_area.tif\n"
     ]
    },
    {
     "name": "stderr",
     "output_type": "stream",
     "text": [
      "Warning 1: PROJ: proj_create_from_database: Open of /opt/conda/envs/base_gis/share/proj failed\n",
      "Warning 1: PROJ: proj_create_from_name: Open of /opt/conda/envs/base_gis/share/proj failed\n",
      "Warning 1: The definition of projected CRS EPSG:29192 got from GeoTIFF keys is not the same as the one from the EPSG registry, which may cause issues during reprojection operations. Set GTIFF_SRS_SOURCE configuration option to EPSG to use official parameters (overriding the ones from GeoTIFF keys), or to GEOKEYS to use custom values from GeoTIFF keys and drop the EPSG code.\n",
      "Warning 1: PROJ: proj_create_from_database: Open of /opt/conda/envs/base_gis/share/proj failed\n",
      "Warning 1: PROJ: proj_create_from_name: Open of /opt/conda/envs/base_gis/share/proj failed\n",
      "Warning 1: The definition of projected CRS EPSG:29192 got from GeoTIFF keys is not the same as the one from the EPSG registry, which may cause issues during reprojection operations. Set GTIFF_SRS_SOURCE configuration option to EPSG to use official parameters (overriding the ones from GeoTIFF keys), or to GEOKEYS to use custom values from GeoTIFF keys and drop the EPSG code.\n"
     ]
    },
    {
     "name": "stdout",
     "output_type": "stream",
     "text": [
      "Completed: 2014_rc_area.tif -> 2014_rc_area.rst\n",
      "Starting conversion: 2005_rc_area.tif\n",
      "Completed: 2012_rc_area.tif -> 2012_rc_area.rst\n",
      "Starting conversion: 2006_rc_area.tif\n"
     ]
    },
    {
     "name": "stderr",
     "output_type": "stream",
     "text": [
      "Warning 1: PROJ: proj_create_from_database: Open of /opt/conda/envs/base_gis/share/proj failed\n",
      "Warning 1: PROJ: proj_create_from_name: Open of /opt/conda/envs/base_gis/share/proj failed\n",
      "Warning 1: PROJ: proj_create_from_database: Open of /opt/conda/envs/base_gis/share/proj failed\n",
      "Warning 1: PROJ: proj_create_from_name: Open of /opt/conda/envs/base_gis/share/proj failed\n",
      "Warning 1: The definition of projected CRS EPSG:29192 got from GeoTIFF keys is not the same as the one from the EPSG registry, which may cause issues during reprojection operations. Set GTIFF_SRS_SOURCE configuration option to EPSG to use official parameters (overriding the ones from GeoTIFF keys), or to GEOKEYS to use custom values from GeoTIFF keys and drop the EPSG code.\n"
     ]
    },
    {
     "name": "stdout",
     "output_type": "stream",
     "text": [
      "Completed: 1991_rc_area.tif -> 1991_rc_area.rst\n",
      "Starting conversion: 2007_rc_area.tif\n"
     ]
    },
    {
     "name": "stderr",
     "output_type": "stream",
     "text": [
      "Warning 1: PROJ: proj_create_from_database: Open of /opt/conda/envs/base_gis/share/proj failed\n",
      "Warning 1: PROJ: proj_create_from_name: Open of /opt/conda/envs/base_gis/share/proj failed\n",
      "Warning 1: The definition of projected CRS EPSG:29192 got from GeoTIFF keys is not the same as the one from the EPSG registry, which may cause issues during reprojection operations. Set GTIFF_SRS_SOURCE configuration option to EPSG to use official parameters (overriding the ones from GeoTIFF keys), or to GEOKEYS to use custom values from GeoTIFF keys and drop the EPSG code.\n"
     ]
    },
    {
     "name": "stdout",
     "output_type": "stream",
     "text": [
      "Completed: 1994_rc_area.tif -> 1994_rc_area.rst\n",
      "Starting conversion: 2008_rc_area.tif\n",
      "Completed: 1992_rc_area.tif -> 1992_rc_area.rst\n"
     ]
    },
    {
     "name": "stderr",
     "output_type": "stream",
     "text": [
      "Warning 1: PROJ: proj_create_from_database: Open of /opt/conda/envs/base_gis/share/proj failed\n",
      "Warning 1: PROJ: proj_create_from_name: Open of /opt/conda/envs/base_gis/share/proj failed\n",
      "Warning 1: The definition of projected CRS EPSG:29192 got from GeoTIFF keys is not the same as the one from the EPSG registry, which may cause issues during reprojection operations. Set GTIFF_SRS_SOURCE configuration option to EPSG to use official parameters (overriding the ones from GeoTIFF keys), or to GEOKEYS to use custom values from GeoTIFF keys and drop the EPSG code.\n"
     ]
    },
    {
     "name": "stdout",
     "output_type": "stream",
     "text": [
      "Starting conversion: 2009_rc_area.tif\n",
      "Completed: 1993_rc_area.tif -> 1993_rc_area.rst\n",
      "Starting conversion: 2010_rc_area.tif\n"
     ]
    },
    {
     "name": "stderr",
     "output_type": "stream",
     "text": [
      "Warning 1: PROJ: proj_create_from_database: Open of /opt/conda/envs/base_gis/share/proj failed\n",
      "Warning 1: PROJ: proj_create_from_name: Open of /opt/conda/envs/base_gis/share/proj failed\n",
      "Warning 1: The definition of projected CRS EPSG:29192 got from GeoTIFF keys is not the same as the one from the EPSG registry, which may cause issues during reprojection operations. Set GTIFF_SRS_SOURCE configuration option to EPSG to use official parameters (overriding the ones from GeoTIFF keys), or to GEOKEYS to use custom values from GeoTIFF keys and drop the EPSG code.\n",
      "Warning 1: PROJ: proj_create_from_database: Open of /opt/conda/envs/base_gis/share/proj failed\n",
      "Warning 1: PROJ: proj_create_from_name: Open of /opt/conda/envs/base_gis/share/proj failed\n"
     ]
    },
    {
     "name": "stdout",
     "output_type": "stream",
     "text": [
      "Completed: 1995_rc_area.tif -> 1995_rc_area.rst\n",
      "Starting conversion: 2011_rc_area.tif\n"
     ]
    },
    {
     "name": "stderr",
     "output_type": "stream",
     "text": [
      "Warning 1: PROJ: proj_create_from_database: Open of /opt/conda/envs/base_gis/share/proj failed\n",
      "Warning 1: PROJ: proj_create_from_name: Open of /opt/conda/envs/base_gis/share/proj failed\n",
      "Warning 1: The definition of projected CRS EPSG:29192 got from GeoTIFF keys is not the same as the one from the EPSG registry, which may cause issues during reprojection operations. Set GTIFF_SRS_SOURCE configuration option to EPSG to use official parameters (overriding the ones from GeoTIFF keys), or to GEOKEYS to use custom values from GeoTIFF keys and drop the EPSG code.\n"
     ]
    },
    {
     "name": "stdout",
     "output_type": "stream",
     "text": [
      "Completed: 1999_rc_area.tif -> 1999_rc_area.rst\n",
      "Starting conversion: 2012_rc_area.tif\n"
     ]
    },
    {
     "name": "stderr",
     "output_type": "stream",
     "text": [
      "Warning 1: PROJ: proj_create_from_database: Open of /opt/conda/envs/base_gis/share/proj failed\n",
      "Warning 1: PROJ: proj_create_from_name: Open of /opt/conda/envs/base_gis/share/proj failed\n",
      "Warning 1: The definition of projected CRS EPSG:29192 got from GeoTIFF keys is not the same as the one from the EPSG registry, which may cause issues during reprojection operations. Set GTIFF_SRS_SOURCE configuration option to EPSG to use official parameters (overriding the ones from GeoTIFF keys), or to GEOKEYS to use custom values from GeoTIFF keys and drop the EPSG code.\n"
     ]
    },
    {
     "name": "stdout",
     "output_type": "stream",
     "text": [
      "Completed: 1996_rc_area.tif -> 1996_rc_area.rst\n",
      "Starting conversion: 2013_rc_area.tif\n"
     ]
    },
    {
     "name": "stderr",
     "output_type": "stream",
     "text": [
      "Warning 1: PROJ: proj_create_from_database: Open of /opt/conda/envs/base_gis/share/proj failed\n",
      "Warning 1: PROJ: proj_create_from_name: Open of /opt/conda/envs/base_gis/share/proj failed\n",
      "Warning 1: The definition of projected CRS EPSG:29192 got from GeoTIFF keys is not the same as the one from the EPSG registry, which may cause issues during reprojection operations. Set GTIFF_SRS_SOURCE configuration option to EPSG to use official parameters (overriding the ones from GeoTIFF keys), or to GEOKEYS to use custom values from GeoTIFF keys and drop the EPSG code.\n"
     ]
    },
    {
     "name": "stdout",
     "output_type": "stream",
     "text": [
      "Completed: 2000_rc_area.tif -> 2000_rc_area.rst\n",
      "Starting conversion: 2014_rc_area.tif\n"
     ]
    },
    {
     "name": "stderr",
     "output_type": "stream",
     "text": [
      "Warning 1: PROJ: proj_create_from_database: Open of /opt/conda/envs/base_gis/share/proj failed\n",
      "Warning 1: PROJ: proj_create_from_name: Open of /opt/conda/envs/base_gis/share/proj failed\n",
      "Warning 1: The definition of projected CRS EPSG:29192 got from GeoTIFF keys is not the same as the one from the EPSG registry, which may cause issues during reprojection operations. Set GTIFF_SRS_SOURCE configuration option to EPSG to use official parameters (overriding the ones from GeoTIFF keys), or to GEOKEYS to use custom values from GeoTIFF keys and drop the EPSG code.\n"
     ]
    },
    {
     "name": "stdout",
     "output_type": "stream",
     "text": [
      "Completed: 1997_rc_area.tif -> 1997_rc_area.rst\n",
      "Starting conversion: 2015_rc_area.tif\n",
      "Completed: 1998_rc_area.tif -> 1998_rc_area.rst\n",
      "Starting conversion: 2016_rc_area.tif\n"
     ]
    },
    {
     "name": "stderr",
     "output_type": "stream",
     "text": [
      "Warning 1: PROJ: proj_create_from_database: Open of /opt/conda/envs/base_gis/share/proj failed\n",
      "Warning 1: PROJ: proj_create_from_name: Open of /opt/conda/envs/base_gis/share/proj failed\n",
      "Warning 1: PROJ: proj_create_from_database: Open of /opt/conda/envs/base_gis/share/proj failed\n",
      "Warning 1: PROJ: proj_create_from_name: Open of /opt/conda/envs/base_gis/share/proj failed\n",
      "Warning 1: The definition of projected CRS EPSG:29192 got from GeoTIFF keys is not the same as the one from the EPSG registry, which may cause issues during reprojection operations. Set GTIFF_SRS_SOURCE configuration option to EPSG to use official parameters (overriding the ones from GeoTIFF keys), or to GEOKEYS to use custom values from GeoTIFF keys and drop the EPSG code.\n"
     ]
    },
    {
     "name": "stdout",
     "output_type": "stream",
     "text": [
      "Completed: 2002_rc_area.tif -> 2002_rc_area.rst\n",
      "Starting conversion: 2017_rc_area.tif\n",
      "Completed: 2001_rc_area.tif -> 2001_rc_area.rst\n",
      "Starting conversion: 2018_rc_area.tif\n"
     ]
    },
    {
     "name": "stderr",
     "output_type": "stream",
     "text": [
      "Warning 1: PROJ: proj_create_from_database: Open of /opt/conda/envs/base_gis/share/proj failed\n",
      "Warning 1: PROJ: proj_create_from_name: Open of /opt/conda/envs/base_gis/share/proj failed\n",
      "Warning 1: The definition of projected CRS EPSG:29192 got from GeoTIFF keys is not the same as the one from the EPSG registry, which may cause issues during reprojection operations. Set GTIFF_SRS_SOURCE configuration option to EPSG to use official parameters (overriding the ones from GeoTIFF keys), or to GEOKEYS to use custom values from GeoTIFF keys and drop the EPSG code.\n",
      "Warning 1: PROJ: proj_create_from_database: Open of /opt/conda/envs/base_gis/share/proj failed\n",
      "Warning 1: PROJ: proj_create_from_name: Open of /opt/conda/envs/base_gis/share/proj failed\n",
      "Warning 1: The definition of projected CRS EPSG:29192 got from GeoTIFF keys is not the same as the one from the EPSG registry, which may cause issues during reprojection operations. Set GTIFF_SRS_SOURCE configuration option to EPSG to use official parameters (overriding the ones from GeoTIFF keys), or to GEOKEYS to use custom values from GeoTIFF keys and drop the EPSG code.\n"
     ]
    },
    {
     "name": "stdout",
     "output_type": "stream",
     "text": [
      "Completed: 2005_rc_area.tif -> 2005_rc_area.rst\n",
      "Starting conversion: 2019_rc_area.tif\n"
     ]
    },
    {
     "name": "stderr",
     "output_type": "stream",
     "text": [
      "Warning 1: PROJ: proj_create_from_database: Open of /opt/conda/envs/base_gis/share/proj failed\n",
      "Warning 1: PROJ: proj_create_from_name: Open of /opt/conda/envs/base_gis/share/proj failed\n",
      "Warning 1: The definition of projected CRS EPSG:29192 got from GeoTIFF keys is not the same as the one from the EPSG registry, which may cause issues during reprojection operations. Set GTIFF_SRS_SOURCE configuration option to EPSG to use official parameters (overriding the ones from GeoTIFF keys), or to GEOKEYS to use custom values from GeoTIFF keys and drop the EPSG code.\n"
     ]
    },
    {
     "name": "stdout",
     "output_type": "stream",
     "text": [
      "Completed: 2003_rc_area.tif -> 2003_rc_area.rst\n",
      "Starting conversion: 2020_rc_area.tif\n",
      "Completed: 2004_rc_area.tif -> 2004_rc_area.rst\n"
     ]
    },
    {
     "name": "stderr",
     "output_type": "stream",
     "text": [
      "Warning 1: PROJ: proj_create_from_database: Open of /opt/conda/envs/base_gis/share/proj failed\n",
      "Warning 1: PROJ: proj_create_from_name: Open of /opt/conda/envs/base_gis/share/proj failed\n"
     ]
    },
    {
     "name": "stdout",
     "output_type": "stream",
     "text": [
      "Completed: 2006_rc_area.tif -> 2006_rc_area.rst\n",
      "Completed: 2010_rc_area.tif -> 2010_rc_area.rst\n"
     ]
    },
    {
     "name": "stderr",
     "output_type": "stream",
     "text": [
      "ERROR 3: Can't write(/home/gisuser/code/code/data/2020_rc_area.rst) block with X offset 0 and Y offset 10251.\n",
      "Input/output error\n",
      "ERROR 3: Can't write(/home/gisuser/code/code/data/2019_rc_area.rst) block with X offset 0 and Y offset 16206.\n",
      "Input/output error\n",
      "ERROR 1: An error occurred while writing a dirty block from GDALRasterBand::IRasterIO\n",
      "ERROR 3: Can't write(/home/gisuser/code/code/data/2020_rc_area.rst) block with X offset 0 and Y offset 10350.\n",
      "Input/output error\n",
      "ERROR 3: Can't write(/home/gisuser/code/code/data/2017_rc_area.rst) block with X offset 0 and Y offset 18151.\n",
      "Input/output error\n",
      "ERROR 1: An error occurred while writing a dirty block from GDALRasterBand::IRasterIO\n",
      "ERROR 3: Can't write(/home/gisuser/code/code/data/2019_rc_area.rst) block with X offset 0 and Y offset 16226.\n",
      "Input/output error\n",
      "ERROR 1: An error occurred while writing a dirty block from GDALRasterBand::IRasterIO\n",
      "ERROR 3: Can't write(/home/gisuser/code/code/data/2017_rc_area.rst) block with X offset 0 and Y offset 18274.\n",
      "Input/output error\n"
     ]
    },
    {
     "name": "stdout",
     "output_type": "stream",
     "text": [
      "Completed: 2007_rc_area.tif -> 2007_rc_area.rst\n",
      "Completed: 2008_rc_area.tif -> 2008_rc_area.rst\n",
      "Completed: 2009_rc_area.tif -> 2009_rc_area.rst\n",
      "Completed: 2020_rc_area.tif -> 2020_rc_area.rst\n"
     ]
    },
    {
     "name": "stderr",
     "output_type": "stream",
     "text": [
      "ERROR 3: Can't read(/home/gisuser/code/code/data/2020_rc_area.rst) block with X offset 0 and Y offset 10251.\n",
      "Success\n",
      "ERROR 1: 2020_rc_area.rst, band 1: IReadBlock failed at X offset 0, Y offset 10251: Can't read(/home/gisuser/code/code/data/2020_rc_area.rst) block with X offset 0 and Y offset 10251.\n",
      "Success\n"
     ]
    },
    {
     "name": "stdout",
     "output_type": "stream",
     "text": [
      "Completed: 2019_rc_area.tif -> 2019_rc_area.rst\n"
     ]
    },
    {
     "name": "stderr",
     "output_type": "stream",
     "text": [
      "ERROR 3: Can't read(/home/gisuser/code/code/data/2019_rc_area.rst) block with X offset 0 and Y offset 16206.\n",
      "Success\n",
      "ERROR 1: 2019_rc_area.rst, band 1: IReadBlock failed at X offset 0, Y offset 16206: Can't read(/home/gisuser/code/code/data/2019_rc_area.rst) block with X offset 0 and Y offset 16206.\n",
      "Success\n"
     ]
    },
    {
     "name": "stdout",
     "output_type": "stream",
     "text": [
      "Completed: 2017_rc_area.tif -> 2017_rc_area.rst\n"
     ]
    },
    {
     "name": "stderr",
     "output_type": "stream",
     "text": [
      "ERROR 3: Can't read(/home/gisuser/code/code/data/2017_rc_area.rst) block with X offset 0 and Y offset 18151.\n",
      "Success\n",
      "ERROR 1: 2017_rc_area.rst, band 1: IReadBlock failed at X offset 0, Y offset 18151: Can't read(/home/gisuser/code/code/data/2017_rc_area.rst) block with X offset 0 and Y offset 18151.\n",
      "Success\n"
     ]
    },
    {
     "name": "stdout",
     "output_type": "stream",
     "text": [
      "Completed: 2011_rc_area.tif -> 2011_rc_area.rst\n",
      "Completed: 2012_rc_area.tif -> 2012_rc_area.rst\n",
      "Completed: 2015_rc_area.tif -> 2015_rc_area.rst\n",
      "Completed: 2013_rc_area.tif -> 2013_rc_area.rst\n",
      "Completed: 2014_rc_area.tif -> 2014_rc_area.rst\n",
      "Completed: 2016_rc_area.tif -> 2016_rc_area.rst\n",
      "Completed: 2018_rc_area.tif -> 2018_rc_area.rst\n",
      "All processes completed\n",
      "Conversion complete: 62/62 files converted successfully\n"
     ]
    }
   ],
   "source": [
    "if __name__ == \"__main__\":\n",
    "    # Set your input folder path here\n",
    "    input_folder = \"/home/gisuser/code/code/data\"\n",
    "    \n",
    "    if not os.path.exists(input_folder):\n",
    "        print(\"Folder does not exist!\")\n",
    "    else:\n",
    "        # Ask for number of cores to use\n",
    "        cores_input = input(f\"Enter number of cores to use (1-{cpu_count()}, or press Enter for all): \").strip()\n",
    "        num_cores = int(cores_input) if cores_input else cpu_count()\n",
    "        \n",
    "        batch_convert_tiff_to_rst(input_folder, num_cores)\n"
   ]
  },
  {
   "cell_type": "code",
   "execution_count": 5,
   "id": "4192f7c2",
   "metadata": {},
   "outputs": [
    {
     "data": {
      "text/plain": [
       "'/home/gisuser/code'"
      ]
     },
     "execution_count": 5,
     "metadata": {},
     "output_type": "execute_result"
    }
   ],
   "source": [
    "os.getcwd()"
   ]
  },
  {
   "cell_type": "code",
   "execution_count": 7,
   "id": "4da72966",
   "metadata": {},
   "outputs": [
    {
     "name": "stdout",
     "output_type": "stream",
     "text": [
      "['1990_rc_area.tfw', '1990_rc_area.tif', '1990_rc_area.tif.aux.xml', '1990_rc_area.tif.vat.cpg', '1990_rc_area.tif.vat.dbf', '1991_rc_area.tfw', '1991_rc_area.tif', '1991_rc_area.tif.aux.xml', '1991_rc_area.tif.vat.cpg', '1991_rc_area.tif.vat.dbf', '1991_rc_area.tif.vat.dbf.GEO-008185.1008.19684.sr.lock', '1992_rc_area.tfw', '1992_rc_area.tif', '1992_rc_area.tif.aux.xml', '1992_rc_area.tif.vat.cpg', '1992_rc_area.tif.vat.dbf', '1993_rc_area.tfw', '1993_rc_area.tif', '1993_rc_area.tif.aux.xml', '1993_rc_area.tif.vat.cpg', '1993_rc_area.tif.vat.dbf', '1994_rc_area.tfw', '1994_rc_area.tif', '1994_rc_area.tif.aux.xml', '1994_rc_area.tif.vat.cpg', '1994_rc_area.tif.vat.dbf', '1994_rc_area.tif.vat.dbf.GEO-008185.11280.16352.sr.lock', '1994_rc_area.tif.vat.dbf.GEO-008185.13672.10040.sr.lock', '1994_rc_area.tif.vat.dbf.GEO-008185.22716.21032.sr.lock', '1994_rc_area.tif.vat.dbf.GEO-008185.2400.5108.sr.lock', '1995_rc_area.tfw', '1995_rc_area.tif', '1995_rc_area.tif.aux.xml', '1995_rc_area.tif.vat.cpg', '1995_rc_area.tif.vat.dbf', '1996_rc_area.tfw', '1996_rc_area.tif', '1996_rc_area.tif.aux.xml', '1996_rc_area.tif.vat.cpg', '1996_rc_area.tif.vat.dbf', '1996_rc_area.tif.vat.dbf.GEO-008185.23108.20440.sr.lock', '1997_rc_area.tfw', '1997_rc_area.tif', '1997_rc_area.tif.aux.xml', '1997_rc_area.tif.vat.cpg', '1997_rc_area.tif.vat.dbf', '1997_rc_area.tif.vat.dbf.GEO-008185.23600.20572.sr.lock', '1998_rc_area.tfw', '1998_rc_area.tif', '1998_rc_area.tif.aux.xml', '1998_rc_area.tif.vat.cpg', '1998_rc_area.tif.vat.dbf', '1998_rc_area.tif.vat.dbf.GEO-008185.8360.11372.sr.lock', '1999_rc_area.tfw', '1999_rc_area.tif', '1999_rc_area.tif.aux.xml', '1999_rc_area.tif.vat.cpg', '1999_rc_area.tif.vat.dbf', '2000_rc_area.tfw', '2000_rc_area.tif', '2000_rc_area.tif.aux.xml', '2000_rc_area.tif.vat.cpg', '2000_rc_area.tif.vat.dbf', '2001_rc_area.tfw', '2001_rc_area.tif', '2001_rc_area.tif.aux.xml', '2001_rc_area.tif.vat.cpg', '2001_rc_area.tif.vat.dbf', '2001_rc_area.tif.vat.dbf.GEO-008185.11636.1376.sr.lock', '2002_rc_area.tfw', '2002_rc_area.tif', '2002_rc_area.tif.aux.xml', '2002_rc_area.tif.vat.cpg', '2002_rc_area.tif.vat.dbf', '2002_rc_area.tif.vat.dbf.GEO-008185.12748.22732.sr.lock', '2002_rc_area.tif.vat.dbf.GEO-008185.16000.5732.sr.lock', '2002_rc_area.tif.vat.dbf.GEO-008185.2276.15652.sr.lock', '2002_rc_area.tif.vat.dbf.GEO-008185.7396.21532.sr.lock', '2003_rc_area.tfw', '2003_rc_area.tif', '2003_rc_area.tif.aux.xml', '2003_rc_area.tif.vat.cpg', '2003_rc_area.tif.vat.dbf', '2003_rc_area.tif.vat.dbf.GEO-008185.12372.13728.sr.lock', '2003_rc_area.tif.vat.dbf.GEO-008185.22020.3988.sr.lock', '2004_rc_area.tfw', '2004_rc_area.tif', '2004_rc_area.tif.aux.xml', '2004_rc_area.tif.vat.cpg', '2004_rc_area.tif.vat.dbf', '2004_rc_area.tif.vat.dbf.GEO-008185.20328.19972.sr.lock', '2005_rc_area.tfw', '2005_rc_area.tif', '2005_rc_area.tif.aux.xml', '2005_rc_area.tif.vat.cpg', '2005_rc_area.tif.vat.dbf', '2006_rc_area.tfw', '2006_rc_area.tif', '2006_rc_area.tif.aux.xml', '2006_rc_area.tif.vat.cpg', '2006_rc_area.tif.vat.dbf', '2006_rc_area.tif.vat.dbf.GEO-008185.20640.15104.sr.lock', '2007_rc_area.tfw', '2007_rc_area.tif', '2007_rc_area.tif.aux.xml', '2007_rc_area.tif.vat.cpg', '2007_rc_area.tif.vat.dbf', '2007_rc_area.tif.vat.dbf.GEO-008185.14448.17656.sr.lock', '2007_rc_area.tif.vat.dbf.GEO-008185.20200.15920.sr.lock', '2008_rc_area.tfw', '2008_rc_area.tif', '2008_rc_area.tif.aux.xml', '2008_rc_area.tif.vat.cpg', '2008_rc_area.tif.vat.dbf', '2008_rc_area.tif.vat.dbf.GEO-008185.18780.19776.sr.lock', '2008_rc_area.tif.vat.dbf.GEO-008185.5068.14912.sr.lock', '2009_rc_area.tfw', '2009_rc_area.tif', '2009_rc_area.tif.aux.xml', '2009_rc_area.tif.vat.cpg', '2009_rc_area.tif.vat.dbf', '2010_rc_area.tfw', '2010_rc_area.tif', '2010_rc_area.tif.aux.xml', '2010_rc_area.tif.vat.cpg', '2010_rc_area.tif.vat.dbf', '2011_rc_area.tfw', '2011_rc_area.tif', '2011_rc_area.tif.aux.xml', '2011_rc_area.tif.vat.cpg', '2011_rc_area.tif.vat.dbf', '2011_rc_area.tif.vat.dbf.GEO-008185.13668.20660.sr.lock', '2011_rc_area.tif.vat.dbf.GEO-008185.17140.23336.sr.lock', '2011_rc_area.tif.vat.dbf.GEO-008185.19660.23276.sr.lock', '2011_rc_area.tif.vat.dbf.GEO-008185.20672.18780.sr.lock', '2011_rc_area.tif.vat.dbf.GEO-008185.23644.16424.sr.lock', '2011_rc_area.tif.vat.dbf.GEO-008185.25208.16616.sr.lock', '2012_rc_area.tfw', '2012_rc_area.tif', '2012_rc_area.tif.aux.xml', '2012_rc_area.tif.vat.cpg', '2012_rc_area.tif.vat.dbf', '2013_rc_area.tfw', '2013_rc_area.tif', '2013_rc_area.tif.aux.xml', '2013_rc_area.tif.vat.cpg', '2013_rc_area.tif.vat.dbf', '2014_rc_area.tfw', '2014_rc_area.tif', '2014_rc_area.tif.aux.xml', '2014_rc_area.tif.vat.cpg', '2014_rc_area.tif.vat.dbf', '2014_rc_area.tif.vat.dbf.GEO-008185.22868.24340.sr.lock', '2014_rc_area.tif.vat.dbf.GEO-008185.840.15424.sr.lock', '2015_rc_area.tfw', '2015_rc_area.tif', '2015_rc_area.tif.aux.xml', '2015_rc_area.tif.vat.cpg', '2015_rc_area.tif.vat.dbf', '2016_rc_area.tfw', '2016_rc_area.tif', '2016_rc_area.tif.aux.xml', '2016_rc_area.tif.vat.cpg', '2016_rc_area.tif.vat.dbf', '2016_rc_area.tif.vat.dbf.GEO-008185.17912.15484.sr.lock', '2016_rc_area.tif.vat.dbf.GEO-008185.22648.21968.sr.lock', '2016_rc_area.tif.vat.dbf.GEO-008185.22912.13424.sr.lock', '2016_rc_area.tif.vat.dbf.GEO-008185.22968.20944.sr.lock', '2016_rc_area.tif.vat.dbf.GEO-008185.23556.24044.sr.lock', '2017_rc_area.tfw', '2017_rc_area.tif', '2017_rc_area.tif.aux.xml', '2017_rc_area.tif.vat.cpg', '2017_rc_area.tif.vat.dbf', '2017_rc_area.tif.vat.dbf.GEO-008185.17268.16984.sr.lock', '2017_rc_area.tif.vat.dbf.GEO-008185.26428.1816.sr.lock', '2018_rc_area.tfw', '2018_rc_area.tif', '2018_rc_area.tif.aux.xml', '2018_rc_area.tif.vat.cpg', '2018_rc_area.tif.vat.dbf', '2018_rc_area.tif.vat.dbf.GEO-008185.1152.22736.sr.lock', '2019_rc_area.tfw', '2019_rc_area.tif', '2019_rc_area.tif.aux.xml', '2019_rc_area.tif.vat.cpg', '2019_rc_area.tif.vat.dbf', '2019_rc_area.tif.vat.dbf.GEO-008185.14740.13664.sr.lock', '2020_rc_area.tfw', '2020_rc_area.tif', '2020_rc_area.tif.aux.xml', '2020_rc_area.tif.vat.cpg', '2020_rc_area.tif.vat.dbf']\n"
     ]
    }
   ],
   "source": [
    "import os\n",
    "\n",
    "folder_path = './code/data'\n",
    "files = [f for f in os.listdir(folder_path) if os.path.isfile(os.path.join(folder_path, f))]\n",
    "print(files)\n"
   ]
  },
  {
   "cell_type": "code",
   "execution_count": 42,
   "id": "5eb52171",
   "metadata": {},
   "outputs": [
    {
     "name": "stdout",
     "output_type": "stream",
     "text": [
      "False\n"
     ]
    }
   ],
   "source": [
    "print(os.path.exists('/home/gisuser/code/data'))"
   ]
  }
 ],
 "metadata": {
  "kernelspec": {
   "display_name": "Python 3 (ipykernel)",
   "language": "python",
   "name": "python3"
  },
  "language_info": {
   "codemirror_mode": {
    "name": "ipython",
    "version": 3
   },
   "file_extension": ".py",
   "mimetype": "text/x-python",
   "name": "python",
   "nbconvert_exporter": "python",
   "pygments_lexer": "ipython3",
   "version": "3.12.11"
  }
 },
 "nbformat": 4,
 "nbformat_minor": 5
}
