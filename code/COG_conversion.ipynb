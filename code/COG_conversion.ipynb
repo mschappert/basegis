{
 "cells": [
  {
   "cell_type": "markdown",
   "id": "b40fa9c8",
   "metadata": {},
   "source": [
    "COG Conversion Workflow\n",
    "1. Validate if files are COG, if not COG, conversion is required\n",
    "2. COG conversion\n",
    "3. Validate if conversion was successful"
   ]
  },
  {
   "cell_type": "code",
   "execution_count": null,
   "id": "4db25bd5",
   "metadata": {},
   "outputs": [],
   "source": [
    "# Import Packages\n",
    "import os\n",
    "import glob\n",
    "# COG Conversion\n",
    "from rio_cogeo.cogeo import cog_validate\n",
    "from rio_cogeo.cogeo import cog_translate\n",
    "from rio_cogeo.profiles import cog_profiles"
   ]
  },
  {
   "cell_type": "code",
   "execution_count": null,
   "id": "7f2b3dd0",
   "metadata": {},
   "outputs": [],
   "source": [
    "def cog_validation(tif_path=None, cog_path=None):\n",
    "    \"\"\"\n",
    "    This function validates if the input file is a COG or not.\n",
    "    \n",
    "    Inputs:\n",
    "        tif_path : filepath \n",
    "            The path to the input file or files to be validated. \n",
    "        cog_path : filepath\n",
    "            The path to the COG file or files that have been converted and need validation that the conversion was successful. \n",
    "    \"\"\"\n",
    "    for file in glob.glob(tif_path):\n",
    "        print(f\"{file} is valid COG: {cog_validate(file)}\")\n",
    "\n",
    "\n",
    "def cog_conversion(tif_path, input_folder, output_folder):\n",
    "    \"\"\"\n",
    "    This function converts files or files to COG and exports the conversion as a tif to an output folder.\n",
    "    \n",
    "    Inputs:\n",
    "        tif_path : filepath \n",
    "            The path to the input file or files that need to be converted. \n",
    "        input_folder : filepath\n",
    "            The path to the folder where the input files are located.  \n",
    "        output_folder: filepath\n",
    "            The path to the output folder where the COG files will be saved.\n",
    "    \"\"\"\n",
    "    # Create output directory\n",
    "    os.makedirs(output_folder, exist_ok=True)\n",
    "\n",
    "    # Get all tiff files and convert to COG\n",
    "    for input_path in glob.glob(tif_path):\n",
    "        # Create output filename\n",
    "        filename = os.path.basename(input_path)\n",
    "        output_path = os.path.join(output_folder, f\"{os.path.splitext(filename)[0]}_cog.tif\")\n",
    "        \n",
    "        # Convert to COG\n",
    "        try:\n",
    "            cog_translate(input_path, output_folder, cog_profiles.get(\"deflate\"))\n",
    "            print(f\"Converted: {filename}\")\n",
    "        except Exception as e:\n",
    "            print(f\"Error converting {filename}: {e}\")\n",
    "\n",
    "\n",
    "# Parameters\n",
    "tif_path = \"./code/data/FOLDER_WITH_DATA/*.tif\"\n",
    "input_folder = os.path.abspath('./code/data/FOLDER_WITH_DATA')\n",
    "output_folder = os.path.abspath('./code/data/COG_output')\n",
    "cog_path = \"./code/data/COG_output/*.tif\""
   ]
  },
  {
   "cell_type": "code",
   "execution_count": null,
   "id": "a1b374d7",
   "metadata": {},
   "outputs": [],
   "source": [
    "# Validate if files are COG, if not COG, conversion is required\n",
    "cog_validation(tif_path)"
   ]
  },
  {
   "cell_type": "code",
   "execution_count": null,
   "id": "2dc50cd3",
   "metadata": {},
   "outputs": [],
   "source": [
    "# COG Conversion\n",
    "cog_conversion(tif_path, input_folder, output_folder)"
   ]
  },
  {
   "cell_type": "code",
   "execution_count": null,
   "id": "49f28df3",
   "metadata": {},
   "outputs": [],
   "source": [
    "# Checking if COG conversion was successful\n",
    "cog_validation(cog_path)"
   ]
  }
 ],
 "metadata": {
  "language_info": {
   "name": "python"
  }
 },
 "nbformat": 4,
 "nbformat_minor": 5
}
