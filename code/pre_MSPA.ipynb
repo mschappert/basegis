{
 "cells": [
  {
   "cell_type": "code",
   "execution_count": 1,
   "id": "30f8f515",
   "metadata": {},
   "outputs": [],
   "source": [
    "import os\n",
    "from pathlib import Path\n",
    "import re\n",
    "import numpy as np\n",
    "import rasterio\n",
    "from rasterio.enums import Resampling\n",
    "from rasterio.crs import CRS"
   ]
  },
  {
   "cell_type": "code",
   "execution_count": 4,
   "id": "1dcc6e57",
   "metadata": {},
   "outputs": [],
   "source": [
    "input_dir = Path(\"D:/Mikayla_RA/RA_S25/Time_Series/tiff_to_use/\")\n",
    "output_dir = Path(\"D:/Mikayla_RA/RA_S25/Time_Series/tiff_P_geotiff_recoded/\")\n",
    "output_dir.mkdir(parents=True, exist_ok=True)"
   ]
  },
  {
   "cell_type": "code",
   "execution_count": 5,
   "id": "de2d8ce2",
   "metadata": {},
   "outputs": [
    {
     "ename": "FileNotFoundError",
     "evalue": "[Errno 2] No such file or directory: 'D:/Mikayla_RA/RA_S25/Time_Series/tiff_to_use'",
     "output_type": "error",
     "traceback": [
      "\u001b[31m---------------------------------------------------------------------------\u001b[39m",
      "\u001b[31mFileNotFoundError\u001b[39m                         Traceback (most recent call last)",
      "\u001b[36mCell\u001b[39m\u001b[36m \u001b[39m\u001b[32mIn[5]\u001b[39m\u001b[32m, line 1\u001b[39m\n\u001b[32m----> \u001b[39m\u001b[32m1\u001b[39m \u001b[38;5;28;43;01mfor\u001b[39;49;00m\u001b[43m \u001b[49m\u001b[43mf\u001b[49m\u001b[43m \u001b[49m\u001b[38;5;129;43;01min\u001b[39;49;00m\u001b[43m \u001b[49m\u001b[43minput_dir\u001b[49m\u001b[43m.\u001b[49m\u001b[43miterdir\u001b[49m\u001b[43m(\u001b[49m\u001b[43m)\u001b[49m\u001b[43m:\u001b[49m\n\u001b[32m      2\u001b[39m \u001b[43m    \u001b[49m\u001b[38;5;28;43;01mif\u001b[39;49;00m\u001b[43m \u001b[49m\u001b[43mf\u001b[49m\u001b[43m.\u001b[49m\u001b[43mis_file\u001b[49m\u001b[43m(\u001b[49m\u001b[43m)\u001b[49m\u001b[43m:\u001b[49m\n\u001b[32m      3\u001b[39m \u001b[43m        \u001b[49m\u001b[38;5;28;43mprint\u001b[39;49m\u001b[43m(\u001b[49m\u001b[43mf\u001b[49m\u001b[43m.\u001b[49m\u001b[43mname\u001b[49m\u001b[43m)\u001b[49m\n",
      "\u001b[36mFile \u001b[39m\u001b[32m/opt/conda/envs/base_gis/lib/python3.12/pathlib.py:1056\u001b[39m, in \u001b[36mPath.iterdir\u001b[39m\u001b[34m(self)\u001b[39m\n\u001b[32m   1050\u001b[39m \u001b[38;5;28;01mdef\u001b[39;00m\u001b[38;5;250m \u001b[39m\u001b[34miterdir\u001b[39m(\u001b[38;5;28mself\u001b[39m):\n\u001b[32m   1051\u001b[39m \u001b[38;5;250m    \u001b[39m\u001b[33;03m\"\"\"Yield path objects of the directory contents.\u001b[39;00m\n\u001b[32m   1052\u001b[39m \n\u001b[32m   1053\u001b[39m \u001b[33;03m    The children are yielded in arbitrary order, and the\u001b[39;00m\n\u001b[32m   1054\u001b[39m \u001b[33;03m    special entries '.' and '..' are not included.\u001b[39;00m\n\u001b[32m   1055\u001b[39m \u001b[33;03m    \"\"\"\u001b[39;00m\n\u001b[32m-> \u001b[39m\u001b[32m1056\u001b[39m     \u001b[38;5;28;01mfor\u001b[39;00m name \u001b[38;5;129;01min\u001b[39;00m \u001b[43mos\u001b[49m\u001b[43m.\u001b[49m\u001b[43mlistdir\u001b[49m\u001b[43m(\u001b[49m\u001b[38;5;28;43mself\u001b[39;49m\u001b[43m)\u001b[49m:\n\u001b[32m   1057\u001b[39m         \u001b[38;5;28;01myield\u001b[39;00m \u001b[38;5;28mself\u001b[39m._make_child_relpath(name)\n",
      "\u001b[31mFileNotFoundError\u001b[39m: [Errno 2] No such file or directory: 'D:/Mikayla_RA/RA_S25/Time_Series/tiff_to_use'"
     ]
    }
   ],
   "source": [
    "for f in input_dir.iterdir():\n",
    "    if f.is_file():\n",
    "        print(f.name)"
   ]
  },
  {
   "cell_type": "code",
   "execution_count": 9,
   "id": "5dfe68d7",
   "metadata": {},
   "outputs": [],
   "source": [
    "# Target CRS: SAD69 UTM zone 22S (EPSG:29182)\n",
    "target_crs = CRS.from_epsg(29192)\n",
    "background = 0\n",
    "foreground = 1\n",
    "\n",
    "def recode_for_mspa(data):\n",
    "    # MSPA expects: 1=background, 2=foreground, 0=other\n",
    "    return np.where(data == foreground, 2,\n",
    "           np.where(data == background, 1, 0)).astype(np.uint8)"
   ]
  },
  {
   "cell_type": "code",
   "execution_count": 13,
   "id": "2bee34eb",
   "metadata": {},
   "outputs": [],
   "source": [
    "for tif_file in input_dir.glob(\"*.tif\"):\n",
    "    # Extract year from filename (e.g., 'mosaic_1990.tif' -> '1990')\n",
    "    match = re.search(r\"mosaic_(\\d{4})\", tif_file.stem)\n",
    "    if match:\n",
    "        year = match.group(1)\n",
    "        output_name = f\"{year}_P_recoded.tif\"\n",
    "    else:\n",
    "        output_name = f\"{tif_file.stem}_P_recoded.tif\"\n",
    "\n",
    "    with rasterio.open(tif_file) as src:\n",
    "        data = src.read(1)\n",
    "        recoded = recode_for_mspa(data)\n",
    "        transform, width, height = rasterio.warp.calculate_default_transform(\n",
    "            src.crs, target_crs, src.width, src.height, *src.bounds)\n",
    "        profile = src.profile.copy()\n",
    "        profile.update({\n",
    "            'driver': 'GTiff',\n",
    "            'dtype': 'uint8',\n",
    "            'crs': target_crs,\n",
    "            'transform': transform,\n",
    "            'width': width,\n",
    "            'height': height,\n",
    "            'count': 1,\n",
    "            'compress': 'lzw'\n",
    "        })\n",
    "        reprojected = np.empty((height, width), dtype=np.uint8)\n",
    "        rasterio.warp.reproject(\n",
    "            source=recoded,\n",
    "            destination=reprojected,\n",
    "            src_transform=src.transform,\n",
    "            src_crs=src.crs,\n",
    "            dst_transform=transform,\n",
    "            dst_crs=target_crs,\n",
    "            resampling=Resampling.bilinear\n",
    "        )\n",
    "        output_path = output_dir / output_name\n",
    "        with rasterio.open(output_path, 'w', **profile) as dst:\n",
    "            dst.write(reprojected, 1)"
   ]
  },
  {
   "cell_type": "code",
   "execution_count": null,
   "id": "54a9d299",
   "metadata": {},
   "outputs": [],
   "source": [
    "with rasterio.open(\"output_folder/1990_P_recoded.tif\") as src:\n",
    "    print(src.crs)  # Should show EPSG:29182\n",
    "    print(src.read(1))  # Should show 1 (background) and 2 (foreground)"
   ]
  }
 ],
 "metadata": {
  "kernelspec": {
   "display_name": "Python 3 (ipykernel)",
   "language": "python",
   "name": "python3"
  }
 },
 "nbformat": 4,
 "nbformat_minor": 5
}
