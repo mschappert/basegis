{
 "cells": [
  {
   "cell_type": "code",
   "execution_count": 1,
   "id": "26004d36",
   "metadata": {},
   "outputs": [
    {
     "ename": "ModuleNotFoundError",
     "evalue": "No module named 'osgeo'",
     "output_type": "error",
     "traceback": [
      "\u001b[31m---------------------------------------------------------------------------\u001b[39m",
      "\u001b[31mModuleNotFoundError\u001b[39m                       Traceback (most recent call last)",
      "\u001b[36mCell\u001b[39m\u001b[36m \u001b[39m\u001b[32mIn[1]\u001b[39m\u001b[32m, line 4\u001b[39m\n\u001b[32m      2\u001b[39m \u001b[38;5;28;01mimport\u001b[39;00m\u001b[38;5;250m \u001b[39m\u001b[34;01mglob\u001b[39;00m\n\u001b[32m      3\u001b[39m \u001b[38;5;28;01mfrom\u001b[39;00m\u001b[38;5;250m \u001b[39m\u001b[34;01mmultiprocessing\u001b[39;00m\u001b[38;5;250m \u001b[39m\u001b[38;5;28;01mimport\u001b[39;00m Pool, cpu_count\n\u001b[32m----> \u001b[39m\u001b[32m4\u001b[39m \u001b[38;5;28;01mfrom\u001b[39;00m\u001b[38;5;250m \u001b[39m\u001b[34;01mosgeo\u001b[39;00m\u001b[38;5;250m \u001b[39m\u001b[38;5;28;01mimport\u001b[39;00m gdal\n",
      "\u001b[31mModuleNotFoundError\u001b[39m: No module named 'osgeo'"
     ]
    }
   ],
   "source": [
    "import os\n",
    "import glob\n",
    "from multiprocessing import Pool, cpu_count\n",
    "from osgeo import gdal"
   ]
  },
  {
   "cell_type": "code",
   "execution_count": null,
   "id": "0c16bab8",
   "metadata": {},
   "outputs": [],
   "source": [
    "def convert_tiff_to_rst(input_file):\n",
    "    \"\"\"Convert a single TIFF file to RST format\"\"\"\n",
    "    try:\n",
    "        output_file = input_file.replace('.tif', '.rst').replace('.tiff', '.rst')\n",
    "        \n",
    "        # Open source dataset\n",
    "        src_ds = gdal.Open(input_file)\n",
    "        if src_ds is None:\n",
    "            print(f\"Failed to open {input_file}\")\n",
    "            return False\n",
    "            \n",
    "        # Create RST file\n",
    "        driver = gdal.GetDriverByName('RST')\n",
    "        dst_ds = driver.CreateCopy(output_file, src_ds)\n",
    "        \n",
    "        # Clean up\n",
    "        src_ds = None\n",
    "        dst_ds = None\n",
    "        \n",
    "        print(f\"Converted: {os.path.basename(input_file)} -> {os.path.basename(output_file)}\")\n",
    "        return True\n",
    "        \n",
    "    except Exception as e:\n",
    "        print(f\"Error converting {input_file}: {str(e)}\")\n",
    "        return False\n",
    "\n",
    "def batch_convert_tiff_to_rst(input_folder, num_processes=None):\n",
    "    \"\"\"Batch convert all TIFF files in a folder to RST format\"\"\"\n",
    "    \n",
    "    # Find all TIFF files\n",
    "    tiff_patterns = [\n",
    "        os.path.join(input_folder, \"*.tif\"),\n",
    "        os.path.join(input_folder, \"*.tiff\"),\n",
    "        os.path.join(input_folder, \"**/*.tif\"),\n",
    "        os.path.join(input_folder, \"**/*.tiff\")\n",
    "    ]\n",
    "    \n",
    "    tiff_files = []\n",
    "    for pattern in tiff_patterns:\n",
    "        tiff_files.extend(glob.glob(pattern, recursive=True))\n",
    "    \n",
    "    if not tiff_files:\n",
    "        print(\"No TIFF files found in the specified folder\")\n",
    "        return\n",
    "    \n",
    "    print(f\"Found {len(tiff_files)} TIFF files to convert\")\n",
    "    \n",
    "    # Use all CPU cores if not specified\n",
    "    if num_processes is None:\n",
    "        num_processes = cpu_count()\n",
    "    \n",
    "    print(f\"Using {num_processes} processes for conversion\")\n",
    "    \n",
    "    # Process files in parallel\n",
    "    with Pool(processes=num_processes) as pool:\n",
    "        results = pool.map(convert_tiff_to_rst, tiff_files)\n",
    "    \n",
    "    successful = sum(results)\n",
    "    print(f\"\\nConversion complete: {successful}/{len(tiff_files)} files converted successfully\")\n"
   ]
  },
  {
   "cell_type": "code",
   "execution_count": null,
   "id": "312c26c8",
   "metadata": {},
   "outputs": [],
   "source": [
    "if __name__ == \"__main__\":\n",
    "    # Set your input folder path here\n",
    "    input_folder = input(\"Enter the folder path containing TIFF files: \").strip()\n",
    "    \n",
    "    if not os.path.exists(input_folder):\n",
    "        print(\"Folder does not exist!\")\n",
    "    else:\n",
    "        # Ask for number of cores to use\n",
    "        cores_input = input(f\"Enter number of cores to use (1-{cpu_count()}, or press Enter for all): \").strip()\n",
    "        num_cores = int(cores_input) if cores_input else None\n",
    "        \n",
    "        batch_convert_tiff_to_rst(input_folder, num_cores)\n"
   ]
  }
 ],
 "metadata": {
  "kernelspec": {
   "display_name": "Python 3 (ipykernel)",
   "language": "python",
   "name": "python3"
  },
  "language_info": {
   "codemirror_mode": {
    "name": "ipython",
    "version": 3
   },
   "file_extension": ".py",
   "mimetype": "text/x-python",
   "name": "python",
   "nbconvert_exporter": "python",
   "pygments_lexer": "ipython3",
   "version": "3.12.11"
  }
 },
 "nbformat": 4,
 "nbformat_minor": 5
}
