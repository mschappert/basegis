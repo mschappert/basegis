{
 "cells": [
  {
   "cell_type": "markdown",
   "id": "50fda47f",
   "metadata": {},
   "source": [
    "COG Conversion Workflow\n",
    "1. Validate if files are COG, if not COG, conversion is required\n",
    "2. COG conversion\n",
    "3. Validate if conversion was successful\n",
    "4. Conversion to xarray, assign time dimension, and reproject to target CRS"
   ]
  },
  {
   "cell_type": "code",
   "execution_count": null,
   "id": "3a7435b4",
   "metadata": {},
   "outputs": [],
   "source": [
    "# Import Packages\n",
    "\n",
    "# COG Conversion\n",
    "from rio_cogeo.cogeo import cog_validate\n",
    "from rio_cogeo.cogeo import cog_translate\n",
    "from rio_cogeo.profiles import cog_profiles"
   ]
  },
  {
   "cell_type": "code",
   "execution_count": null,
   "id": "79e3dce3",
   "metadata": {},
   "outputs": [],
   "source": [
    "def cog_validation(tif_path=None, cog_path=None):\n",
    "    \"\"\"\n",
    "    This function validates if the input file is a COG or not.\n",
    "    \n",
    "    Inputs:\n",
    "        tif_path : filepath \n",
    "            The path to the input file or files to be validated. \n",
    "        cog_path : filepath\n",
    "            The path to the COG file or files that have been converted and need validation that the conversion was successful. \n",
    "    \"\"\"\n",
    "    for file in glob.glob(tif_path):\n",
    "        print(f\"{file} is valid COG: {cog_validate(file)}\")\n",
    "\n",
    "\n",
    "def cog_conversion(tif_path, input_folder, output_folder):\n",
    "    \"\"\"\n",
    "    This function converts files or files to COG and exports the conversion as a tif to an output folder.\n",
    "    \n",
    "    Inputs:\n",
    "        tif_path : filepath \n",
    "            The path to the input file or files that need to be converted. \n",
    "        input_folder : filepath\n",
    "            The path to the folder where the input files are located.  \n",
    "        output_folder: filepath\n",
    "            The path to the output folder where the COG files will be saved.\n",
    "    \"\"\"\n",
    "    # Create output directory\n",
    "    os.makedirs(output_folder, exist_ok=True)\n",
    "\n",
    "    # Get all tiff files and convert to COG\n",
    "    for input_path in glob.glob(tif_path):\n",
    "        # Create output filename\n",
    "        filename = os.path.basename(input_path)\n",
    "        output_path = os.path.join(output_folder, f\"{os.path.splitext(filename)[0]}_cog.tif\")\n",
    "        \n",
    "        # Convert to COG\n",
    "        try:\n",
    "            cog_translate(input_path, output_folder, cog_profiles.get(\"deflate\"))\n",
    "            print(f\"Converted: {filename}\")\n",
    "        except Exception as e:\n",
    "            print(f\"Error converting {filename}: {e}\")\n",
    "\n",
    "\n",
    "# Parameters\n",
    "tif_path = \"./analysis/data/py_test_data/*.tif\"\n",
    "input_folder = os.path.abspath('./analysis/data/py_test_data')\n",
    "output_folder = os.path.abspath('./analysis/data/COG_output')\n",
    "cog_path = \"./analysis/data/COG_output/*.tif\""
   ]
  },
  {
   "cell_type": "code",
   "execution_count": null,
   "id": "5034284d",
   "metadata": {},
   "outputs": [],
   "source": [
    "# Validate if files are COG, if not COG, conversion is required\n",
    "# If files are COG, skip to \"Analysis\" section \n",
    "cog_validation(tif_path)"
   ]
  },
  {
   "cell_type": "code",
   "execution_count": null,
   "id": "ab1441bf",
   "metadata": {},
   "outputs": [],
   "source": [
    "# COG Conversion\n",
    "cog_conversion(tif_path, input_folder, output_folder)"
   ]
  },
  {
   "cell_type": "code",
   "execution_count": null,
   "id": "0019b065",
   "metadata": {},
   "outputs": [],
   "source": [
    "# Checking if COG conversion was successful\n",
    "cog_validation(cog_path)"
   ]
  }
 ],
 "metadata": {
  "language_info": {
   "name": "python"
  }
 },
 "nbformat": 4,
 "nbformat_minor": 5
}
