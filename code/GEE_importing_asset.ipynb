{
 "cells": [
  {
   "cell_type": "markdown",
   "id": "3324d259",
   "metadata": {},
   "source": [
    "This code aims to authenticate GEE, read in the desired asset, and open as an image. \n",
    "For this example we will be using MapBiomas Collection 9 [Data](https://brasil.mapbiomas.org/en/colecoes-mapbiomas/) to isolate the Atlantic Forest of Brazil."
   ]
  },
  {
   "cell_type": "markdown",
   "id": "50fda47f",
   "metadata": {},
   "source": [
    "In order to run this, you will need a Google Earth Engine (GEE) account in order to authenticate and call an asset. Here are some resourfes for getting started and troubleshooting: \n",
    "\n",
    "Basic account set up guide: [Link](https://courses.spatialthoughts.com/gee-sign-up.html)\n",
    "Transition to cloud projects: [Link](https://developers.google.com/earth-engine/guides/transition_to_cloud_projects)\n",
    "Data Usage Guide: [Link](https://developers.google.com/earth-engine/guides/usage)\n",
    "Create Access Credentials: [Link](https://developers.google.com/workspace/guides/create-credentials#api-key)\n",
    "Authentication and Initialization: [Link](https://developers.google.com/earth-engine/guides/auth)\n",
    "Authentication in VSCode: [Link](https://stackoverflow.com/questions/78374548/no-authentication-box-appears-when-authenticating-google-earth-engine-gee-pyth)"
   ]
  },
  {
   "cell_type": "markdown",
   "id": "e0d05174",
   "metadata": {},
   "source": [
    "# Importing GEE Asset\n",
    "\n",
    "1. Authenticate GEE\n",
    "2. Read the asset\n",
    "3. Open as an Image\n",
    "Additional steps:\n",
    "* This example selects specific years, filter for forest land cover, and mask to the boundaries of the Atlantic Forest.\n",
    "4. Select the band (using year)\n",
    "5. Filter the class value (forest formation)\n",
    "6. Mask to biome (Atlantic Forest)\n",
    "7. Reporject to target CRS"
   ]
  },
  {
   "cell_type": "code",
   "execution_count": null,
   "id": "43c04197",
   "metadata": {},
   "outputs": [],
   "source": [
    "# Import Packages\n",
    "import os\n",
    "#import numpy as np\n",
    "#import pylandstats as pls\n",
    "#from scipy import stats\n",
    "#import dask.array as da\n",
    "#import glob\n",
    "import xarray as xr\n",
    "#import rioxarray as rxr\n",
    "#import pandas as pd\n",
    "#import re\n",
    "#from pathlib import Path\n",
    "#import matplotlib.pyplot as plt\n",
    "\n",
    "# GEE\n",
    "import ee\n",
    "import geemap"
   ]
  },
  {
   "cell_type": "code",
   "execution_count": null,
   "id": "3a7435b4",
   "metadata": {},
   "outputs": [],
   "source": [
    "# GEE Functions\n",
    "def authenticate_gee():\n",
    "    \"\"\"\n",
    "    AuthenticThis function attempts run the authentification process for GEE.\n",
    "    User must sign in with their credentials and make sure it is properly set up. (See readme for helpful links)\n",
    "\n",
    "    Returns:\n",
    "    gee.Map or None: A GEE Map object if authentication is successful,\n",
    "                     None otherwise.\n",
    "    \"\"\"\n",
    "    import ee\n",
    "    import geemap\n",
    "    # Initialize GEE\n",
    "    ee.Authenticate()\n",
    "    ee.Authenticate(auth_mode='notebook') # Needed for Jupyter notebook\n",
    "    ee.Initialize()"
   ]
  },
  {
   "cell_type": "code",
   "execution_count": null,
   "id": "bd18bc85",
   "metadata": {},
   "outputs": [],
   "source": [
    "authenticate_gee()"
   ]
  },
  {
   "cell_type": "code",
   "execution_count": null,
   "id": "6daf56e1",
   "metadata": {},
   "outputs": [],
   "source": [
    "# Asset list\n",
    "assetInput = \"projects/mapbiomas-public/assets/brazil/lulc/collection9/mapbiomas_collection90_integration_v1\"\n",
    "assetBiomes = \"projects/mapbiomas-workspace/AUXILIAR/ESTATISTICAS/biomas-5\""
   ]
  },
  {
   "cell_type": "code",
   "execution_count": null,
   "id": "2344a226",
   "metadata": {},
   "outputs": [],
   "source": [
    "# Read Image\n",
    "input = ee.Image(assetInput)\n",
    "print(input)\n",
    "\n",
    "# Read Biome\n",
    "biomes = ee.Image(assetBiomes)\n",
    "print(biomes)"
   ]
  },
  {
   "cell_type": "code",
   "execution_count": null,
   "id": "458be05e",
   "metadata": {},
   "outputs": [],
   "source": [
    "# Read in all data to 1 image, clip, and convert to xarray\n",
    "\n",
    "years = [2019, 2020, 2021, 2022, 2023]\n",
    "# select only specific years and forest formation level\n",
    "mb_images = [input.select(f'classification_{year}').eq(3) for year in years]\n",
    "# convert multiple images to a collection\n",
    "mb_collection = ee.ImageCollection.fromImages(mb_images)\n",
    "\n",
    "# Mask data extent to Atlantic Forest biome asset \n",
    "biome_mask = biomes.eq(4)\n",
    "# Apply mask to each iamge in the collection \n",
    "mb_clipped = mb_collection.map(lambda image: image.updateMask(biome_mask))\n",
    "\n",
    "# Convert ee.ImageCollection to xarray\n",
    "mb_xarray = geemap.ee_to_xarray(\n",
    "    mb_clipped,\n",
    "    crs='EPSG:6618',\n",
    "    scale=30,\n",
    "    geometry=mb_clipped.first().geometry()\n",
    ")\n",
    "\n",
    "# Rename data variable names\n",
    "mb_xarray = mb_xarray.rename_vars({'classification_2019': 'data_vars'})\n",
    "\n",
    "# Chnage time dimension to associated year\n",
    "mb_xarray = mb_xarray.assign_coords(\n",
    "    time = ('time', years)\n",
    "    )\n",
    "\n",
    "# look at data structure\n",
    "mb_xarray"
   ]
  }
 ],
 "metadata": {
  "language_info": {
   "name": "python"
  }
 },
 "nbformat": 4,
 "nbformat_minor": 5
}
