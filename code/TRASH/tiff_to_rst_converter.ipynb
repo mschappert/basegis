{
 "cells": [
  {
   "cell_type": "markdown",
   "metadata": {},
   "source": [
    "# GeoTIFF to RST Converter for TerrSet\n",
    "This notebook converts GeoTIFF files to RST format using parallel processing for speed."
   ]
  },
  {
   "cell_type": "code",
   "execution_count": null,
   "metadata": {},
   "outputs": [],
   "source": [
    "import os\n",
    "import glob\n",
    "from multiprocessing import Pool, cpu_count\n",
    "from osgeo import gdal\n",
    "import time"
   ]
  },
  {
   "cell_type": "code",
   "execution_count": null,
   "metadata": {},
   "outputs": [],
   "source": [
    "def convert_tiff_to_rst(input_file):\n",
    "    \"\"\"Convert a single TIFF file to RST format\"\"\"\n",
    "    try:\n",
    "        output_file = input_file.replace('.tif', '.rst').replace('.tiff', '.rst')\n",
    "        \n",
    "        # Open source dataset\n",
    "        src_ds = gdal.Open(input_file)\n",
    "        if src_ds is None:\n",
    "            print(f\"Failed to open {input_file}\")\n",
    "            return False\n",
    "            \n",
    "        # Create RST file\n",
    "        driver = gdal.GetDriverByName('RST')\n",
    "        dst_ds = driver.CreateCopy(output_file, src_ds)\n",
    "        \n",
    "        # Clean up\n",
    "        src_ds = None\n",
    "        dst_ds = None\n",
    "        \n",
    "        print(f\"Converted: {os.path.basename(input_file)} -> {os.path.basename(output_file)}\")\n",
    "        return True\n",
    "        \n",
    "    except Exception as e:\n",
    "        print(f\"Error converting {input_file}: {str(e)}\")\n",
    "        return False"
   ]
  },
  {
   "cell_type": "code",
   "execution_count": null,
   "metadata": {},
   "outputs": [],
   "source": [
    "# Set your input folder path here\n",
    "input_folder = \"/home/gisuser/data/\"  # Change this to your TIFF files location\n",
    "\n",
    "# Find all TIFF files\n",
    "tiff_patterns = [\n",
    "    os.path.join(input_folder, \"*.tif\"),\n",
    "    os.path.join(input_folder, \"*.tiff\"),\n",
    "    os.path.join(input_folder, \"**/*.tif\"),\n",
    "    os.path.join(input_folder, \"**/*.tiff\")\n",
    "]\n",
    "\n",
    "tiff_files = []\n",
    "for pattern in tiff_patterns:\n",
    "    tiff_files.extend(glob.glob(pattern, recursive=True))\n",
    "\n",
    "print(f\"Found {len(tiff_files)} TIFF files to convert\")\n",
    "for f in tiff_files[:5]:  # Show first 5 files\n",
    "    print(f\"  {f}\")\n",
    "if len(tiff_files) > 5:\n",
    "    print(f\"  ... and {len(tiff_files)-5} more\")"
   ]
  },
  {
   "cell_type": "code",
   "execution_count": null,
   "metadata": {},
   "outputs": [],
   "source": [
    "# Convert files using parallel processing\n",
    "if tiff_files:\n",
    "    num_processes = cpu_count()\n",
    "    print(f\"Using {num_processes} processes for conversion\")\n",
    "    \n",
    "    start_time = time.time()\n",
    "    \n",
    "    with Pool(processes=num_processes) as pool:\n",
    "        results = pool.map(convert_tiff_to_rst, tiff_files)\n",
    "    \n",
    "    end_time = time.time()\n",
    "    successful = sum(results)\n",
    "    \n",
    "    print(f\"\\nConversion complete in {end_time - start_time:.2f} seconds\")\n",
    "    print(f\"Successfully converted: {successful}/{len(tiff_files)} files\")\n",
    "else:\n",
    "    print(\"No TIFF files found to convert\")"
   ]
  }
 ],
 "metadata": {
  "kernelspec": {
   "display_name": "Python 3",
   "language": "python",
   "name": "python3"
  },
  "language_info": {
   "codemirror_mode": {
    "name": "ipython",
    "version": 3
   },
   "file_extension": ".py",
   "mimetype": "text/x-python",
   "name": "python",
   "nbconvert_exporter": "python",
   "pygments_lexer": "ipython3",
   "version": "3.8.5"
  }
 },
 "nbformat": 4,
 "nbformat_minor": 4
}