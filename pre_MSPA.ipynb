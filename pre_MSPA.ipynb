{
 "cells": [
  {
   "cell_type": "code",
   "execution_count": null,
   "id": "30f8f515",
   "metadata": {},
   "outputs": [],
   "source": [
    "import os\n",
    "from pathlib import Path\n",
    "import re\n",
    "import numpy as np\n",
    "import rasterio\n",
    "from rasterio.enums import Resampling\n",
    "from rasterio.crs import CRS"
   ]
  },
  {
   "cell_type": "code",
   "execution_count": null,
   "id": "1dcc6e57",
   "metadata": {},
   "outputs": [],
   "source": [
    "input_dir = Path(\"path/to/input_folder\")\n",
    "output_dir = Path(\"path/to/output_folder\")\n",
    "output_dir.mkdir(parents=True, exist_ok=True)"
   ]
  },
  {
   "cell_type": "code",
   "execution_count": null,
   "id": "5dfe68d7",
   "metadata": {},
   "outputs": [],
   "source": [
    "# Target CRS: SAD69 UTM zone 22S (EPSG:29182)\n",
    "target_crs = CRS.from_epsg(29182)\n",
    "background = 0\n",
    "foreground = 1\n",
    "\n",
    "def recode_for_mspa(data):\n",
    "    # MSPA expects: 1=background, 2=foreground, 0=other\n",
    "    return np.where(data == foreground, 2,\n",
    "           np.where(data == background, 1, 0)).astype(np.uint8)"
   ]
  },
  {
   "cell_type": "code",
   "execution_count": null,
   "id": "2bee34eb",
   "metadata": {},
   "outputs": [],
   "source": [
    "for tif_file in input_dir.glob(\"*.tif\"):\n",
    "    # Extract year from filename (e.g., 'mosaic_1990.tif' -> '1990')\n",
    "    match = re.search(r\"mosaic_(\\d{4})\", tif_file.stem)\n",
    "    if match:\n",
    "        year = match.group(1)\n",
    "        output_name = f\"{year}_P_recoded.tif\"\n",
    "    else:\n",
    "        output_name = f\"{tif_file.stem}_P_recoded.tif\"\n",
    "\n",
    "    with rasterio.open(tif_file) as src:\n",
    "        data = src.read(1)\n",
    "        recoded = recode_for_mspa(data)\n",
    "        transform, width, height = rasterio.warp.calculate_default_transform(\n",
    "            src.crs, target_crs, src.width, src.height, *src.bounds)\n",
    "        profile = src.profile.copy()\n",
    "        profile.update({\n",
    "            'driver': 'GTiff',\n",
    "            'dtype': 'uint8',\n",
    "            'crs': target_crs,\n",
    "            'transform': transform,\n",
    "            'width': width,\n",
    "            'height': height,\n",
    "            'count': 1,\n",
    "            'compress': 'lzw'\n",
    "        })\n",
    "        reprojected = np.empty((height, width), dtype=np.uint8)\n",
    "        rasterio.warp.reproject(\n",
    "            source=recoded,\n",
    "            destination=reprojected,\n",
    "            src_transform=src.transform,\n",
    "            src_crs=src.crs,\n",
    "            dst_transform=transform,\n",
    "            dst_crs=target_crs,\n",
    "            resampling=Resampling.bilinear\n",
    "        )\n",
    "        output_path = output_dir / output_name\n",
    "        with rasterio.open(output_path, 'w', **profile) as dst:\n",
    "            dst.write(reprojected, 1)\n"
   ]
  }
 ],
 "metadata": {
  "language_info": {
   "name": "python"
  }
 },
 "nbformat": 4,
 "nbformat_minor": 5
}
